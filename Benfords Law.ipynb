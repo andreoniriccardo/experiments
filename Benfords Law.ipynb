{
  "cells": [
    {
      "cell_type": "markdown",
      "id": "147b07d4-9ff3-4894-8cae-7de41b40c94a",
      "metadata": {
        "id": "147b07d4-9ff3-4894-8cae-7de41b40c94a"
      },
      "source": [
        "# Experiment on Benford's Law\n",
        "I want to test the Benford's Law which \"... is an observation that in many real-life sets of numerical data, the leading digit is likely to be small. In sets that obey the law, the number 1 appears as the leading significant digit about 30 % of the time, while 9 appears as the leading significant digit less than 5 % of the time.\"\n",
        "\n",
        "See <a href=\"https://en.wikipedia.org/wiki/Benford%27s_law\" target=\"_blank\">Benford's law</a>."
      ]
    },
    {
      "cell_type": "markdown",
      "id": "3bf86f68-375c-4ad1-b4f2-54a3152e9bcb",
      "metadata": {
        "id": "3bf86f68-375c-4ad1-b4f2-54a3152e9bcb"
      },
      "source": [
        "# Methodology\n",
        "I will perform Webscraping on pages containing real world data like Wikipedia pages.\n",
        "I will create Pandas dataframes containing the data and compute the occurrence frequency of the leading digits.\n",
        "\n",
        "Finally, I will test if the computed frequencies respect the logarithmic distribution of Benford's Law."
      ]
    },
    {
      "cell_type": "code",
      "execution_count": null,
      "id": "ae07c74b-2713-4a8f-be0c-52c48140b8da",
      "metadata": {
        "id": "ae07c74b-2713-4a8f-be0c-52c48140b8da",
        "outputId": "4a180247-e2e0-41dd-8941-5a3ca208767b"
      },
      "outputs": [
        {
          "name": "stdout",
          "output_type": "stream",
          "text": [
            "\n",
            "                  __    __    __    __\n",
            "                 /  \\  /  \\  /  \\  /  \\\n",
            "                /    \\/    \\/    \\/    \\\n",
            "███████████████/  /██/  /██/  /██/  /████████████████████████\n",
            "              /  / \\   / \\   / \\   / \\  \\____\n",
            "             /  /   \\_/   \\_/   \\_/   \\    o \\__,\n",
            "            / _/                       \\_____/  `\n",
            "            |/\n",
            "        ███╗   ███╗ █████╗ ███╗   ███╗██████╗  █████╗\n",
            "        ████╗ ████║██╔══██╗████╗ ████║██╔══██╗██╔══██╗\n",
            "        ██╔████╔██║███████║██╔████╔██║██████╔╝███████║\n",
            "        ██║╚██╔╝██║██╔══██║██║╚██╔╝██║██╔══██╗██╔══██║\n",
            "        ██║ ╚═╝ ██║██║  ██║██║ ╚═╝ ██║██████╔╝██║  ██║\n",
            "        ╚═╝     ╚═╝╚═╝  ╚═╝╚═╝     ╚═╝╚═════╝ ╚═╝  ╚═╝\n",
            "\n",
            "        mamba (0.15.3) supported by @QuantStack\n",
            "\n",
            "        GitHub:  https://github.com/mamba-org/mamba\n",
            "        Twitter: https://twitter.com/QuantStack\n",
            "\n",
            "█████████████████████████████████████████████████████████████\n",
            "\n",
            "\n",
            "Looking for: ['bs4==4.10.0']\n",
            "\n",
            "pkgs/main/linux-64       [>                   ] (--:--) No change\n",
            "pkgs/main/linux-64       [====================] (00m:00s) No change\n",
            "pkgs/main/noarch         [>                   ] (--:--) No change\n",
            "pkgs/main/noarch         [====================] (00m:00s) No change\n",
            "pkgs/r/linux-64          [>                   ] (--:--) No change\n",
            "pkgs/r/linux-64          [====================] (00m:00s) No change\n",
            "pkgs/r/noarch            [>                   ] (--:--) No change\n",
            "pkgs/r/noarch            [====================] (00m:00s) No change\n",
            "\n",
            "Pinned packages:\n",
            "  - python 3.7.*\n",
            "\n",
            "\n",
            "Transaction\n",
            "\n",
            "  Prefix: /home/jupyterlab/conda/envs/python\n",
            "\n",
            "  All requested packages already installed\n",
            "\n",
            "Requirement already satisfied: lxml==4.6.4 in /home/jupyterlab/conda/envs/python/lib/python3.7/site-packages (4.6.4)\n",
            "\n",
            "                  __    __    __    __\n",
            "                 /  \\  /  \\  /  \\  /  \\\n",
            "                /    \\/    \\/    \\/    \\\n",
            "███████████████/  /██/  /██/  /██/  /████████████████████████\n",
            "              /  / \\   / \\   / \\   / \\  \\____\n",
            "             /  /   \\_/   \\_/   \\_/   \\    o \\__,\n",
            "            / _/                       \\_____/  `\n",
            "            |/\n",
            "        ███╗   ███╗ █████╗ ███╗   ███╗██████╗  █████╗\n",
            "        ████╗ ████║██╔══██╗████╗ ████║██╔══██╗██╔══██╗\n",
            "        ██╔████╔██║███████║██╔████╔██║██████╔╝███████║\n",
            "        ██║╚██╔╝██║██╔══██║██║╚██╔╝██║██╔══██╗██╔══██║\n",
            "        ██║ ╚═╝ ██║██║  ██║██║ ╚═╝ ██║██████╔╝██║  ██║\n",
            "        ╚═╝     ╚═╝╚═╝  ╚═╝╚═╝     ╚═╝╚═════╝ ╚═╝  ╚═╝\n",
            "\n",
            "        mamba (0.15.3) supported by @QuantStack\n",
            "\n",
            "        GitHub:  https://github.com/mamba-org/mamba\n",
            "        Twitter: https://twitter.com/QuantStack\n",
            "\n",
            "█████████████████████████████████████████████████████████████\n",
            "\n",
            "\n",
            "Looking for: ['html5lib==1.1']\n",
            "\n",
            "pkgs/main/linux-64       Using cache\n",
            "pkgs/main/noarch         Using cache\n",
            "pkgs/r/linux-64          Using cache\n",
            "pkgs/r/noarch            Using cache\n",
            "\n",
            "Pinned packages:\n",
            "  - python 3.7.*\n",
            "\n",
            "\n",
            "Transaction\n",
            "\n",
            "  Prefix: /home/jupyterlab/conda/envs/python\n",
            "\n",
            "  All requested packages already installed\n",
            "\n"
          ]
        }
      ],
      "source": [
        "!mamba install bs4==4.10.0 -y\n",
        "!pip install lxml==4.6.4\n",
        "!mamba install html5lib==1.1 -y"
      ]
    },
    {
      "cell_type": "code",
      "execution_count": null,
      "id": "f1ee3d46-6e02-4fff-b9eb-7719d3d9bd68",
      "metadata": {
        "id": "f1ee3d46-6e02-4fff-b9eb-7719d3d9bd68"
      },
      "outputs": [],
      "source": [
        "from bs4 import BeautifulSoup # this module helps in web scrapping.\n",
        "import requests  # this module helps us to download a web page\n",
        "import pandas as pd\n",
        "import math"
      ]
    },
    {
      "cell_type": "markdown",
      "id": "e1adae52-1740-4460-be9b-b2c5b9dc98de",
      "metadata": {
        "id": "e1adae52-1740-4460-be9b-b2c5b9dc98de"
      },
      "source": [
        "## Benford's Law"
      ]
    },
    {
      "cell_type": "code",
      "execution_count": null,
      "id": "431a2411-7587-44ca-bd1e-8c0f2bf17983",
      "metadata": {
        "id": "431a2411-7587-44ca-bd1e-8c0f2bf17983"
      },
      "outputs": [],
      "source": [
        "def benfords_law(digit):\n",
        "    digit = int(digit)\n",
        "    return math.log10((digit + 1)/digit)"
      ]
    },
    {
      "cell_type": "markdown",
      "id": "1792c45c-45e2-4fd0-a5e5-c9a0b7de41bd",
      "metadata": {
        "id": "1792c45c-45e2-4fd0-a5e5-c9a0b7de41bd"
      },
      "source": [
        "# Experiment n. 01: Population of Nations"
      ]
    },
    {
      "cell_type": "code",
      "execution_count": null,
      "id": "dc4d7a9e-fac3-44da-9709-c1a173d69601",
      "metadata": {
        "id": "dc4d7a9e-fac3-44da-9709-c1a173d69601"
      },
      "outputs": [],
      "source": [
        "url = \"https://en.wikipedia.org/wiki/List_of_countries_by_population_(United_Nations)\""
      ]
    },
    {
      "cell_type": "code",
      "execution_count": null,
      "id": "79d0c1aa-bdc1-405d-b0c9-264e951172e7",
      "metadata": {
        "id": "79d0c1aa-bdc1-405d-b0c9-264e951172e7"
      },
      "outputs": [],
      "source": [
        "# get the contents of the webpage in text format and store in a variable called data\n",
        "data  = requests.get(url).text"
      ]
    },
    {
      "cell_type": "code",
      "execution_count": null,
      "id": "592f9e50-c061-448f-9aaf-5df2a5b64dca",
      "metadata": {
        "id": "592f9e50-c061-448f-9aaf-5df2a5b64dca"
      },
      "outputs": [],
      "source": [
        "soup = BeautifulSoup(data,\"html.parser\")"
      ]
    },
    {
      "cell_type": "code",
      "execution_count": null,
      "id": "21a1422f-3288-43a5-9bea-da89a0f8feb6",
      "metadata": {
        "id": "21a1422f-3288-43a5-9bea-da89a0f8feb6",
        "outputId": "5be735ff-eb99-4331-98dd-bd3dd515bc53"
      },
      "outputs": [
        {
          "name": "stdout",
          "output_type": "stream",
          "text": [
            "In the web page there are 2 tables\n"
          ]
        }
      ],
      "source": [
        "#find all html tables in the web page\n",
        "tables = soup.find_all('table') # in html table is represented by the tag <table>\n",
        "# number of tables in the web page:\n",
        "print(\"In the web page there are\", len(tables), \"tables\")"
      ]
    },
    {
      "cell_type": "code",
      "execution_count": null,
      "id": "b30d6df7-ef4a-45ba-b178-1a320713a355",
      "metadata": {
        "id": "b30d6df7-ef4a-45ba-b178-1a320713a355",
        "outputId": "2e1113dc-47ec-4972-d5fb-7289c6aec1a5"
      },
      "outputs": [
        {
          "name": "stdout",
          "output_type": "stream",
          "text": [
            "0\n"
          ]
        }
      ],
      "source": [
        "# I want to retrieve the table containing the following string:\n",
        "string = \"Country/Area\"\n",
        "\n",
        "for index,table in enumerate(tables):\n",
        "    if (string in str(table)):\n",
        "        table_index = index\n",
        "print(table_index)"
      ]
    },
    {
      "cell_type": "code",
      "execution_count": null,
      "id": "5d46638c-85de-43c7-9c6f-5f53800ac364",
      "metadata": {
        "id": "5d46638c-85de-43c7-9c6f-5f53800ac364",
        "outputId": "7e7a24ed-f3b3-44c6-ef10-4ee0c4e2fe74"
      },
      "outputs": [
        {
          "data": {
            "text/html": [
              "<div>\n",
              "<style scoped>\n",
              "    .dataframe tbody tr th:only-of-type {\n",
              "        vertical-align: middle;\n",
              "    }\n",
              "\n",
              "    .dataframe tbody tr th {\n",
              "        vertical-align: top;\n",
              "    }\n",
              "\n",
              "    .dataframe thead th {\n",
              "        text-align: right;\n",
              "    }\n",
              "</style>\n",
              "<table border=\"1\" class=\"dataframe\">\n",
              "  <thead>\n",
              "    <tr style=\"text-align: right;\">\n",
              "      <th></th>\n",
              "      <th>Country/Area</th>\n",
              "      <th>UN continental region</th>\n",
              "      <th>UN statistical subregion</th>\n",
              "      <th>Population (1 July 2018)</th>\n",
              "      <th>Population (1 July 2019)</th>\n",
              "      <th>Change</th>\n",
              "    </tr>\n",
              "  </thead>\n",
              "  <tbody>\n",
              "    <tr>\n",
              "      <th>0</th>\n",
              "      <td>China[a]</td>\n",
              "      <td>Asia</td>\n",
              "      <td>Eastern Asia</td>\n",
              "      <td>1,427,647,786</td>\n",
              "      <td>1,433,783,686</td>\n",
              "      <td>+0.43%\\n</td>\n",
              "    </tr>\n",
              "    <tr>\n",
              "      <th>1</th>\n",
              "      <td>India</td>\n",
              "      <td>Asia</td>\n",
              "      <td>Southern Asia</td>\n",
              "      <td>1,352,642,280</td>\n",
              "      <td>1,366,417,754</td>\n",
              "      <td>+1.02%\\n</td>\n",
              "    </tr>\n",
              "    <tr>\n",
              "      <th>2</th>\n",
              "      <td>United States</td>\n",
              "      <td>Americas</td>\n",
              "      <td>Northern America</td>\n",
              "      <td>327,096,265</td>\n",
              "      <td>329,064,917</td>\n",
              "      <td>+0.60%\\n</td>\n",
              "    </tr>\n",
              "    <tr>\n",
              "      <th>3</th>\n",
              "      <td>Indonesia</td>\n",
              "      <td>Asia</td>\n",
              "      <td>South-eastern Asia</td>\n",
              "      <td>267,670,543</td>\n",
              "      <td>270,625,568</td>\n",
              "      <td>+1.10%\\n</td>\n",
              "    </tr>\n",
              "    <tr>\n",
              "      <th>4</th>\n",
              "      <td>Pakistan</td>\n",
              "      <td>Asia</td>\n",
              "      <td>Southern Asia</td>\n",
              "      <td>212,228,286</td>\n",
              "      <td>216,565,318</td>\n",
              "      <td>+2.04%\\n</td>\n",
              "    </tr>\n",
              "    <tr>\n",
              "      <th>...</th>\n",
              "      <td>...</td>\n",
              "      <td>...</td>\n",
              "      <td>...</td>\n",
              "      <td>...</td>\n",
              "      <td>...</td>\n",
              "      <td>...</td>\n",
              "    </tr>\n",
              "    <tr>\n",
              "      <th>228</th>\n",
              "      <td>Montserrat (United Kingdom)</td>\n",
              "      <td>Americas</td>\n",
              "      <td>Caribbean</td>\n",
              "      <td>4,993</td>\n",
              "      <td>4,989</td>\n",
              "      <td>−0.08%\\n</td>\n",
              "    </tr>\n",
              "    <tr>\n",
              "      <th>229</th>\n",
              "      <td>Falkland Islands (United Kingdom)</td>\n",
              "      <td>Americas</td>\n",
              "      <td>South America</td>\n",
              "      <td>3,234</td>\n",
              "      <td>3,377</td>\n",
              "      <td>+4.42%\\n</td>\n",
              "    </tr>\n",
              "    <tr>\n",
              "      <th>230</th>\n",
              "      <td>Niue (New Zealand)</td>\n",
              "      <td>Oceania</td>\n",
              "      <td>Polynesia</td>\n",
              "      <td>1,620</td>\n",
              "      <td>1,615</td>\n",
              "      <td>−0.31%\\n</td>\n",
              "    </tr>\n",
              "    <tr>\n",
              "      <th>231</th>\n",
              "      <td>Tokelau (New Zealand)</td>\n",
              "      <td>Oceania</td>\n",
              "      <td>Polynesia</td>\n",
              "      <td>1,319</td>\n",
              "      <td>1,340</td>\n",
              "      <td>+1.59%\\n</td>\n",
              "    </tr>\n",
              "    <tr>\n",
              "      <th>232</th>\n",
              "      <td>Vatican City[z]</td>\n",
              "      <td>Europe</td>\n",
              "      <td>Southern Europe</td>\n",
              "      <td>801</td>\n",
              "      <td>799</td>\n",
              "      <td>−0.25%\\n</td>\n",
              "    </tr>\n",
              "  </tbody>\n",
              "</table>\n",
              "<p>233 rows × 6 columns</p>\n",
              "</div>"
            ],
            "text/plain": [
              "                           Country/Area UN continental region  \\\n",
              "0                              China[a]                  Asia   \n",
              "1                                 India                  Asia   \n",
              "2                         United States              Americas   \n",
              "3                             Indonesia                  Asia   \n",
              "4                              Pakistan                  Asia   \n",
              "..                                  ...                   ...   \n",
              "228         Montserrat (United Kingdom)              Americas   \n",
              "229   Falkland Islands (United Kingdom)              Americas   \n",
              "230                  Niue (New Zealand)               Oceania   \n",
              "231               Tokelau (New Zealand)               Oceania   \n",
              "232                     Vatican City[z]                Europe   \n",
              "\n",
              "    UN statistical subregion Population (1 July 2018)  \\\n",
              "0               Eastern Asia            1,427,647,786   \n",
              "1              Southern Asia            1,352,642,280   \n",
              "2           Northern America              327,096,265   \n",
              "3         South-eastern Asia              267,670,543   \n",
              "4              Southern Asia              212,228,286   \n",
              "..                       ...                      ...   \n",
              "228                Caribbean                    4,993   \n",
              "229            South America                    3,234   \n",
              "230                Polynesia                    1,620   \n",
              "231                Polynesia                    1,319   \n",
              "232          Southern Europe                      801   \n",
              "\n",
              "    Population (1 July 2019)    Change  \n",
              "0              1,433,783,686  +0.43%\\n  \n",
              "1              1,366,417,754  +1.02%\\n  \n",
              "2                329,064,917  +0.60%\\n  \n",
              "3                270,625,568  +1.10%\\n  \n",
              "4                216,565,318  +2.04%\\n  \n",
              "..                       ...       ...  \n",
              "228                    4,989  −0.08%\\n  \n",
              "229                    3,377  +4.42%\\n  \n",
              "230                    1,615  −0.31%\\n  \n",
              "231                    1,340  +1.59%\\n  \n",
              "232                      799  −0.25%\\n  \n",
              "\n",
              "[233 rows x 6 columns]"
            ]
          },
          "execution_count": 11,
          "metadata": {},
          "output_type": "execute_result"
        }
      ],
      "source": [
        "# Create empty DF\n",
        "population_data = pd.DataFrame(columns=[\"Country/Area\", \"UN continental region\", \"UN statistical subregion\", \"Population (1 July 2018)\", \"Population (1 July 2019)\", \"Change\"])\n",
        "\n",
        "# Loop trough the rows of the HTML table. HTML tables rows have the attribute \"tr\"\n",
        "for row in tables[table_index].tbody.find_all(\"tr\"):\n",
        "    # Loop trough the columns of each row. HTML columns have the attribute \"tc\"\n",
        "    col = row.find_all(\"td\")\n",
        "    if (col != []):\n",
        "        country = col[0].text\n",
        "        continental_region = col[1].text\n",
        "        statistical_subregion = col[2].text\n",
        "        population_2018 = col[3].text\n",
        "        population_2019 = col[4].text\n",
        "        change = col[5].text\n",
        "        population_data = population_data.append({\"Country/Area\":country, \"UN continental region\":continental_region, \"UN statistical subregion\":statistical_subregion, \"Population (1 July 2018)\":population_2018, \"Population (1 July 2019)\":population_2019, \"Change\":change}, ignore_index=True)\n",
        "    \n",
        "\n",
        "population_data"
      ]
    },
    {
      "cell_type": "code",
      "execution_count": null,
      "id": "9d7337fc-876c-4754-9d2e-94fc8fc31114",
      "metadata": {
        "id": "9d7337fc-876c-4754-9d2e-94fc8fc31114",
        "outputId": "f2da25e3-096b-419b-c56b-c5182aaf2cd1"
      },
      "outputs": [
        {
          "data": {
            "text/html": [
              "<div>\n",
              "<style scoped>\n",
              "    .dataframe tbody tr th:only-of-type {\n",
              "        vertical-align: middle;\n",
              "    }\n",
              "\n",
              "    .dataframe tbody tr th {\n",
              "        vertical-align: top;\n",
              "    }\n",
              "\n",
              "    .dataframe thead th {\n",
              "        text-align: right;\n",
              "    }\n",
              "</style>\n",
              "<table border=\"1\" class=\"dataframe\">\n",
              "  <thead>\n",
              "    <tr style=\"text-align: right;\">\n",
              "      <th></th>\n",
              "      <th>Country/Area</th>\n",
              "      <th>UN continentalregion[4]</th>\n",
              "      <th>UN statisticalsubregion[4]</th>\n",
              "      <th>Population(1 July 2018)</th>\n",
              "      <th>Population(1 July 2019)</th>\n",
              "      <th>Change</th>\n",
              "    </tr>\n",
              "  </thead>\n",
              "  <tbody>\n",
              "    <tr>\n",
              "      <th>0</th>\n",
              "      <td>China[a]</td>\n",
              "      <td>Asia</td>\n",
              "      <td>Eastern Asia</td>\n",
              "      <td>1427647786</td>\n",
              "      <td>1433783686</td>\n",
              "      <td>+0.43%</td>\n",
              "    </tr>\n",
              "    <tr>\n",
              "      <th>1</th>\n",
              "      <td>India</td>\n",
              "      <td>Asia</td>\n",
              "      <td>Southern Asia</td>\n",
              "      <td>1352642280</td>\n",
              "      <td>1366417754</td>\n",
              "      <td>+1.02%</td>\n",
              "    </tr>\n",
              "    <tr>\n",
              "      <th>2</th>\n",
              "      <td>United States</td>\n",
              "      <td>Americas</td>\n",
              "      <td>Northern America</td>\n",
              "      <td>327096265</td>\n",
              "      <td>329064917</td>\n",
              "      <td>+0.60%</td>\n",
              "    </tr>\n",
              "    <tr>\n",
              "      <th>3</th>\n",
              "      <td>Indonesia</td>\n",
              "      <td>Asia</td>\n",
              "      <td>South-eastern Asia</td>\n",
              "      <td>267670543</td>\n",
              "      <td>270625568</td>\n",
              "      <td>+1.10%</td>\n",
              "    </tr>\n",
              "    <tr>\n",
              "      <th>4</th>\n",
              "      <td>Pakistan</td>\n",
              "      <td>Asia</td>\n",
              "      <td>Southern Asia</td>\n",
              "      <td>212228286</td>\n",
              "      <td>216565318</td>\n",
              "      <td>+2.04%</td>\n",
              "    </tr>\n",
              "    <tr>\n",
              "      <th>...</th>\n",
              "      <td>...</td>\n",
              "      <td>...</td>\n",
              "      <td>...</td>\n",
              "      <td>...</td>\n",
              "      <td>...</td>\n",
              "      <td>...</td>\n",
              "    </tr>\n",
              "    <tr>\n",
              "      <th>229</th>\n",
              "      <td>Falkland Islands (United Kingdom)</td>\n",
              "      <td>Americas</td>\n",
              "      <td>South America</td>\n",
              "      <td>3234</td>\n",
              "      <td>3377</td>\n",
              "      <td>+4.42%</td>\n",
              "    </tr>\n",
              "    <tr>\n",
              "      <th>230</th>\n",
              "      <td>Niue (New Zealand)</td>\n",
              "      <td>Oceania</td>\n",
              "      <td>Polynesia</td>\n",
              "      <td>1620</td>\n",
              "      <td>1615</td>\n",
              "      <td>−0.31%</td>\n",
              "    </tr>\n",
              "    <tr>\n",
              "      <th>231</th>\n",
              "      <td>Tokelau (New Zealand)</td>\n",
              "      <td>Oceania</td>\n",
              "      <td>Polynesia</td>\n",
              "      <td>1319</td>\n",
              "      <td>1340</td>\n",
              "      <td>+1.59%</td>\n",
              "    </tr>\n",
              "    <tr>\n",
              "      <th>232</th>\n",
              "      <td>Vatican City[z]</td>\n",
              "      <td>Europe</td>\n",
              "      <td>Southern Europe</td>\n",
              "      <td>801</td>\n",
              "      <td>799</td>\n",
              "      <td>−0.25%</td>\n",
              "    </tr>\n",
              "    <tr>\n",
              "      <th>233</th>\n",
              "      <td>World</td>\n",
              "      <td>NaN</td>\n",
              "      <td>NaN</td>\n",
              "      <td>7631091040</td>\n",
              "      <td>7713468100</td>\n",
              "      <td>+1.08%</td>\n",
              "    </tr>\n",
              "  </tbody>\n",
              "</table>\n",
              "<p>234 rows × 6 columns</p>\n",
              "</div>"
            ],
            "text/plain": [
              "                          Country/Area UN continentalregion[4]  \\\n",
              "0                             China[a]                    Asia   \n",
              "1                                India                    Asia   \n",
              "2                        United States                Americas   \n",
              "3                            Indonesia                    Asia   \n",
              "4                             Pakistan                    Asia   \n",
              "..                                 ...                     ...   \n",
              "229  Falkland Islands (United Kingdom)                Americas   \n",
              "230                 Niue (New Zealand)                 Oceania   \n",
              "231              Tokelau (New Zealand)                 Oceania   \n",
              "232                    Vatican City[z]                  Europe   \n",
              "233                              World                     NaN   \n",
              "\n",
              "    UN statisticalsubregion[4]  Population(1 July 2018)  \\\n",
              "0                 Eastern Asia               1427647786   \n",
              "1                Southern Asia               1352642280   \n",
              "2             Northern America                327096265   \n",
              "3           South-eastern Asia                267670543   \n",
              "4                Southern Asia                212228286   \n",
              "..                         ...                      ...   \n",
              "229              South America                     3234   \n",
              "230                  Polynesia                     1620   \n",
              "231                  Polynesia                     1319   \n",
              "232            Southern Europe                      801   \n",
              "233                        NaN               7631091040   \n",
              "\n",
              "     Population(1 July 2019)  Change  \n",
              "0                 1433783686  +0.43%  \n",
              "1                 1366417754  +1.02%  \n",
              "2                  329064917  +0.60%  \n",
              "3                  270625568  +1.10%  \n",
              "4                  216565318  +2.04%  \n",
              "..                       ...     ...  \n",
              "229                     3377  +4.42%  \n",
              "230                     1615  −0.31%  \n",
              "231                     1340  +1.59%  \n",
              "232                      799  −0.25%  \n",
              "233               7713468100  +1.08%  \n",
              "\n",
              "[234 rows x 6 columns]"
            ]
          },
          "execution_count": 12,
          "metadata": {},
          "output_type": "execute_result"
        }
      ],
      "source": [
        "# Faster way to extract dataframe\n",
        "dataframe_list = pd.read_html(url, flavor='bs4')\n",
        "population_df = dataframe_list[table_index]\n",
        "population_df"
      ]
    },
    {
      "cell_type": "code",
      "execution_count": null,
      "id": "58f73d23-4826-4204-b6b6-aef4448f1532",
      "metadata": {
        "id": "58f73d23-4826-4204-b6b6-aef4448f1532",
        "outputId": "3504e03c-e5d3-464b-a373-fa42a2e7fe89"
      },
      "outputs": [
        {
          "data": {
            "text/html": [
              "<div>\n",
              "<style scoped>\n",
              "    .dataframe tbody tr th:only-of-type {\n",
              "        vertical-align: middle;\n",
              "    }\n",
              "\n",
              "    .dataframe tbody tr th {\n",
              "        vertical-align: top;\n",
              "    }\n",
              "\n",
              "    .dataframe thead th {\n",
              "        text-align: right;\n",
              "    }\n",
              "</style>\n",
              "<table border=\"1\" class=\"dataframe\">\n",
              "  <thead>\n",
              "    <tr style=\"text-align: right;\">\n",
              "      <th></th>\n",
              "      <th>Country/Area</th>\n",
              "      <th>Population(1 July 2019)</th>\n",
              "    </tr>\n",
              "  </thead>\n",
              "  <tbody>\n",
              "    <tr>\n",
              "      <th>0</th>\n",
              "      <td>China[a]</td>\n",
              "      <td>1433783686</td>\n",
              "    </tr>\n",
              "    <tr>\n",
              "      <th>1</th>\n",
              "      <td>India</td>\n",
              "      <td>1366417754</td>\n",
              "    </tr>\n",
              "    <tr>\n",
              "      <th>2</th>\n",
              "      <td>United States</td>\n",
              "      <td>329064917</td>\n",
              "    </tr>\n",
              "    <tr>\n",
              "      <th>3</th>\n",
              "      <td>Indonesia</td>\n",
              "      <td>270625568</td>\n",
              "    </tr>\n",
              "    <tr>\n",
              "      <th>4</th>\n",
              "      <td>Pakistan</td>\n",
              "      <td>216565318</td>\n",
              "    </tr>\n",
              "    <tr>\n",
              "      <th>...</th>\n",
              "      <td>...</td>\n",
              "      <td>...</td>\n",
              "    </tr>\n",
              "    <tr>\n",
              "      <th>228</th>\n",
              "      <td>Montserrat (United Kingdom)</td>\n",
              "      <td>4989</td>\n",
              "    </tr>\n",
              "    <tr>\n",
              "      <th>229</th>\n",
              "      <td>Falkland Islands (United Kingdom)</td>\n",
              "      <td>3377</td>\n",
              "    </tr>\n",
              "    <tr>\n",
              "      <th>230</th>\n",
              "      <td>Niue (New Zealand)</td>\n",
              "      <td>1615</td>\n",
              "    </tr>\n",
              "    <tr>\n",
              "      <th>231</th>\n",
              "      <td>Tokelau (New Zealand)</td>\n",
              "      <td>1340</td>\n",
              "    </tr>\n",
              "    <tr>\n",
              "      <th>232</th>\n",
              "      <td>Vatican City[z]</td>\n",
              "      <td>799</td>\n",
              "    </tr>\n",
              "  </tbody>\n",
              "</table>\n",
              "<p>233 rows × 2 columns</p>\n",
              "</div>"
            ],
            "text/plain": [
              "                          Country/Area  Population(1 July 2019)\n",
              "0                             China[a]               1433783686\n",
              "1                                India               1366417754\n",
              "2                        United States                329064917\n",
              "3                            Indonesia                270625568\n",
              "4                             Pakistan                216565318\n",
              "..                                 ...                      ...\n",
              "228        Montserrat (United Kingdom)                     4989\n",
              "229  Falkland Islands (United Kingdom)                     3377\n",
              "230                 Niue (New Zealand)                     1615\n",
              "231              Tokelau (New Zealand)                     1340\n",
              "232                    Vatican City[z]                      799\n",
              "\n",
              "[233 rows x 2 columns]"
            ]
          },
          "execution_count": 13,
          "metadata": {},
          "output_type": "execute_result"
        }
      ],
      "source": [
        "# Drop last row\n",
        "population_df.drop(population_df.tail(1).index, inplace = True)\n",
        "\n",
        "# Drop not needed columns\n",
        "population_2019 = population_df.drop(['UN continentalregion[4]', 'UN statisticalsubregion[4]', 'Population(1 July 2018)', 'Change'], axis='columns')\n",
        "population_2019"
      ]
    },
    {
      "cell_type": "code",
      "execution_count": null,
      "id": "cd571b22-88e5-44b4-b731-165a99556709",
      "metadata": {
        "id": "cd571b22-88e5-44b4-b731-165a99556709"
      },
      "outputs": [],
      "source": [
        "# I define a function to get the 1st digit of the population value\n",
        "def get_leading_digit(row):\n",
        "    num = row['Population(1 July 2019)']\n",
        "    num_str = str(num)\n",
        "    return num_str[0]"
      ]
    },
    {
      "cell_type": "code",
      "execution_count": null,
      "id": "05764848-8d01-4e39-979e-c6a5c33f8776",
      "metadata": {
        "id": "05764848-8d01-4e39-979e-c6a5c33f8776"
      },
      "outputs": [],
      "source": [
        "# I add a column for the leading digit\n",
        "population_2019['Leading Digit'] = population_2019.apply (lambda row: get_leading_digit(row), axis=1)"
      ]
    },
    {
      "cell_type": "code",
      "execution_count": null,
      "id": "b2fb8bad-7a4e-4be6-8212-b495bf12e7f9",
      "metadata": {
        "id": "b2fb8bad-7a4e-4be6-8212-b495bf12e7f9",
        "outputId": "7aded4c2-8c36-4597-e983-8e1f86b2094b"
      },
      "outputs": [
        {
          "data": {
            "text/html": [
              "<div>\n",
              "<style scoped>\n",
              "    .dataframe tbody tr th:only-of-type {\n",
              "        vertical-align: middle;\n",
              "    }\n",
              "\n",
              "    .dataframe tbody tr th {\n",
              "        vertical-align: top;\n",
              "    }\n",
              "\n",
              "    .dataframe thead th {\n",
              "        text-align: right;\n",
              "    }\n",
              "</style>\n",
              "<table border=\"1\" class=\"dataframe\">\n",
              "  <thead>\n",
              "    <tr style=\"text-align: right;\">\n",
              "      <th></th>\n",
              "      <th>Count</th>\n",
              "    </tr>\n",
              "    <tr>\n",
              "      <th>Leading Digit</th>\n",
              "      <th></th>\n",
              "    </tr>\n",
              "  </thead>\n",
              "  <tbody>\n",
              "    <tr>\n",
              "      <th>1</th>\n",
              "      <td>71</td>\n",
              "    </tr>\n",
              "    <tr>\n",
              "      <th>2</th>\n",
              "      <td>38</td>\n",
              "    </tr>\n",
              "    <tr>\n",
              "      <th>3</th>\n",
              "      <td>28</td>\n",
              "    </tr>\n",
              "    <tr>\n",
              "      <th>4</th>\n",
              "      <td>23</td>\n",
              "    </tr>\n",
              "    <tr>\n",
              "      <th>5</th>\n",
              "      <td>24</td>\n",
              "    </tr>\n",
              "    <tr>\n",
              "      <th>6</th>\n",
              "      <td>16</td>\n",
              "    </tr>\n",
              "    <tr>\n",
              "      <th>7</th>\n",
              "      <td>10</td>\n",
              "    </tr>\n",
              "    <tr>\n",
              "      <th>8</th>\n",
              "      <td>14</td>\n",
              "    </tr>\n",
              "    <tr>\n",
              "      <th>9</th>\n",
              "      <td>9</td>\n",
              "    </tr>\n",
              "  </tbody>\n",
              "</table>\n",
              "</div>"
            ],
            "text/plain": [
              "               Count\n",
              "Leading Digit       \n",
              "1                 71\n",
              "2                 38\n",
              "3                 28\n",
              "4                 23\n",
              "5                 24\n",
              "6                 16\n",
              "7                 10\n",
              "8                 14\n",
              "9                  9"
            ]
          },
          "execution_count": 16,
          "metadata": {},
          "output_type": "execute_result"
        }
      ],
      "source": [
        "# Isolate the result\n",
        "result = population_2019.groupby('Leading Digit').count()\n",
        "result = result['Population(1 July 2019)']\n",
        "result = pd.DataFrame(result)\n",
        "result = result.rename(columns={'Population(1 July 2019)': 'Count'})\n",
        "result"
      ]
    },
    {
      "cell_type": "code",
      "execution_count": null,
      "id": "14b66623-17c4-454b-81c5-eff0d6f7c936",
      "metadata": {
        "id": "14b66623-17c4-454b-81c5-eff0d6f7c936"
      },
      "outputs": [],
      "source": [
        "total = result['Count'].sum()"
      ]
    },
    {
      "cell_type": "code",
      "execution_count": null,
      "id": "289d5ecc-5070-4683-bba0-478b5edf1a17",
      "metadata": {
        "id": "289d5ecc-5070-4683-bba0-478b5edf1a17",
        "outputId": "3d3cbe99-911a-4fc5-e3f7-5420b2b7237c"
      },
      "outputs": [
        {
          "data": {
            "text/html": [
              "<div>\n",
              "<style scoped>\n",
              "    .dataframe tbody tr th:only-of-type {\n",
              "        vertical-align: middle;\n",
              "    }\n",
              "\n",
              "    .dataframe tbody tr th {\n",
              "        vertical-align: top;\n",
              "    }\n",
              "\n",
              "    .dataframe thead th {\n",
              "        text-align: right;\n",
              "    }\n",
              "</style>\n",
              "<table border=\"1\" class=\"dataframe\">\n",
              "  <thead>\n",
              "    <tr style=\"text-align: right;\">\n",
              "      <th></th>\n",
              "      <th>Count</th>\n",
              "      <th>Actual Percentage</th>\n",
              "    </tr>\n",
              "    <tr>\n",
              "      <th>Leading Digit</th>\n",
              "      <th></th>\n",
              "      <th></th>\n",
              "    </tr>\n",
              "  </thead>\n",
              "  <tbody>\n",
              "    <tr>\n",
              "      <th>1</th>\n",
              "      <td>71</td>\n",
              "      <td>0.304721</td>\n",
              "    </tr>\n",
              "    <tr>\n",
              "      <th>2</th>\n",
              "      <td>38</td>\n",
              "      <td>0.163090</td>\n",
              "    </tr>\n",
              "    <tr>\n",
              "      <th>3</th>\n",
              "      <td>28</td>\n",
              "      <td>0.120172</td>\n",
              "    </tr>\n",
              "    <tr>\n",
              "      <th>4</th>\n",
              "      <td>23</td>\n",
              "      <td>0.098712</td>\n",
              "    </tr>\n",
              "    <tr>\n",
              "      <th>5</th>\n",
              "      <td>24</td>\n",
              "      <td>0.103004</td>\n",
              "    </tr>\n",
              "    <tr>\n",
              "      <th>6</th>\n",
              "      <td>16</td>\n",
              "      <td>0.068670</td>\n",
              "    </tr>\n",
              "    <tr>\n",
              "      <th>7</th>\n",
              "      <td>10</td>\n",
              "      <td>0.042918</td>\n",
              "    </tr>\n",
              "    <tr>\n",
              "      <th>8</th>\n",
              "      <td>14</td>\n",
              "      <td>0.060086</td>\n",
              "    </tr>\n",
              "    <tr>\n",
              "      <th>9</th>\n",
              "      <td>9</td>\n",
              "      <td>0.038627</td>\n",
              "    </tr>\n",
              "  </tbody>\n",
              "</table>\n",
              "</div>"
            ],
            "text/plain": [
              "               Count  Actual Percentage\n",
              "Leading Digit                          \n",
              "1                 71           0.304721\n",
              "2                 38           0.163090\n",
              "3                 28           0.120172\n",
              "4                 23           0.098712\n",
              "5                 24           0.103004\n",
              "6                 16           0.068670\n",
              "7                 10           0.042918\n",
              "8                 14           0.060086\n",
              "9                  9           0.038627"
            ]
          },
          "execution_count": 18,
          "metadata": {},
          "output_type": "execute_result"
        }
      ],
      "source": [
        "result['Actual Percentage'] = result['Count'].apply(lambda x: x / total)\n",
        "result"
      ]
    },
    {
      "cell_type": "code",
      "execution_count": null,
      "id": "2200025f-5e97-4ff5-b1b4-a5f81e73b490",
      "metadata": {
        "id": "2200025f-5e97-4ff5-b1b4-a5f81e73b490",
        "outputId": "c3ef6b16-3d4e-4458-e673-a0e9857695bf"
      },
      "outputs": [
        {
          "data": {
            "text/html": [
              "<div>\n",
              "<style scoped>\n",
              "    .dataframe tbody tr th:only-of-type {\n",
              "        vertical-align: middle;\n",
              "    }\n",
              "\n",
              "    .dataframe tbody tr th {\n",
              "        vertical-align: top;\n",
              "    }\n",
              "\n",
              "    .dataframe thead th {\n",
              "        text-align: right;\n",
              "    }\n",
              "</style>\n",
              "<table border=\"1\" class=\"dataframe\">\n",
              "  <thead>\n",
              "    <tr style=\"text-align: right;\">\n",
              "      <th></th>\n",
              "      <th>Leading Digit</th>\n",
              "      <th>Count</th>\n",
              "      <th>Actual Percentage</th>\n",
              "      <th>Benfords Law</th>\n",
              "    </tr>\n",
              "  </thead>\n",
              "  <tbody>\n",
              "    <tr>\n",
              "      <th>0</th>\n",
              "      <td>1</td>\n",
              "      <td>71</td>\n",
              "      <td>0.304721</td>\n",
              "      <td>0.301030</td>\n",
              "    </tr>\n",
              "    <tr>\n",
              "      <th>1</th>\n",
              "      <td>2</td>\n",
              "      <td>38</td>\n",
              "      <td>0.163090</td>\n",
              "      <td>0.176091</td>\n",
              "    </tr>\n",
              "    <tr>\n",
              "      <th>2</th>\n",
              "      <td>3</td>\n",
              "      <td>28</td>\n",
              "      <td>0.120172</td>\n",
              "      <td>0.124939</td>\n",
              "    </tr>\n",
              "    <tr>\n",
              "      <th>3</th>\n",
              "      <td>4</td>\n",
              "      <td>23</td>\n",
              "      <td>0.098712</td>\n",
              "      <td>0.096910</td>\n",
              "    </tr>\n",
              "    <tr>\n",
              "      <th>4</th>\n",
              "      <td>5</td>\n",
              "      <td>24</td>\n",
              "      <td>0.103004</td>\n",
              "      <td>0.079181</td>\n",
              "    </tr>\n",
              "    <tr>\n",
              "      <th>5</th>\n",
              "      <td>6</td>\n",
              "      <td>16</td>\n",
              "      <td>0.068670</td>\n",
              "      <td>0.066947</td>\n",
              "    </tr>\n",
              "    <tr>\n",
              "      <th>6</th>\n",
              "      <td>7</td>\n",
              "      <td>10</td>\n",
              "      <td>0.042918</td>\n",
              "      <td>0.057992</td>\n",
              "    </tr>\n",
              "    <tr>\n",
              "      <th>7</th>\n",
              "      <td>8</td>\n",
              "      <td>14</td>\n",
              "      <td>0.060086</td>\n",
              "      <td>0.051153</td>\n",
              "    </tr>\n",
              "    <tr>\n",
              "      <th>8</th>\n",
              "      <td>9</td>\n",
              "      <td>9</td>\n",
              "      <td>0.038627</td>\n",
              "      <td>0.045757</td>\n",
              "    </tr>\n",
              "  </tbody>\n",
              "</table>\n",
              "</div>"
            ],
            "text/plain": [
              "  Leading Digit  Count  Actual Percentage  Benfords Law\n",
              "0             1     71           0.304721      0.301030\n",
              "1             2     38           0.163090      0.176091\n",
              "2             3     28           0.120172      0.124939\n",
              "3             4     23           0.098712      0.096910\n",
              "4             5     24           0.103004      0.079181\n",
              "5             6     16           0.068670      0.066947\n",
              "6             7     10           0.042918      0.057992\n",
              "7             8     14           0.060086      0.051153\n",
              "8             9      9           0.038627      0.045757"
            ]
          },
          "execution_count": 19,
          "metadata": {},
          "output_type": "execute_result"
        }
      ],
      "source": [
        "result = result.reset_index()\n",
        "result['Benfords Law'] = result['Leading Digit'].apply(lambda i: benfords_law(i))\n",
        "result"
      ]
    },
    {
      "cell_type": "markdown",
      "id": "c962d54c-74d6-4758-be49-d44160d3dfce",
      "metadata": {
        "id": "c962d54c-74d6-4758-be49-d44160d3dfce"
      },
      "source": [
        "I can see that the population of nations follows the Benford's Law"
      ]
    },
    {
      "cell_type": "markdown",
      "id": "6c6cd1a3-2ade-401f-8429-3793426d9122",
      "metadata": {
        "id": "6c6cd1a3-2ade-401f-8429-3793426d9122"
      },
      "source": [
        "# Experiment n.02: Length of Rivers"
      ]
    },
    {
      "cell_type": "code",
      "execution_count": null,
      "id": "3fbb72d4-2147-4f7e-af98-5c7a5a70db0d",
      "metadata": {
        "id": "3fbb72d4-2147-4f7e-af98-5c7a5a70db0d"
      },
      "outputs": [],
      "source": [
        "url = \"https://en.wikipedia.org/wiki/List_of_rivers_by_length\""
      ]
    },
    {
      "cell_type": "code",
      "execution_count": null,
      "id": "42663c53-2ec3-4835-863c-bbfa1e05dcc6",
      "metadata": {
        "id": "42663c53-2ec3-4835-863c-bbfa1e05dcc6"
      },
      "outputs": [],
      "source": [
        "# get the contents of the webpage in text format and store in a variable called data\n",
        "data  = requests.get(url).text"
      ]
    },
    {
      "cell_type": "code",
      "execution_count": null,
      "id": "74bd2adb-e135-4689-b4d1-e2bf6b831a93",
      "metadata": {
        "id": "74bd2adb-e135-4689-b4d1-e2bf6b831a93"
      },
      "outputs": [],
      "source": [
        "soup = BeautifulSoup(data,\"html.parser\")"
      ]
    },
    {
      "cell_type": "code",
      "execution_count": null,
      "id": "0c932b6b-90f4-4d8b-b207-207bf24ed0af",
      "metadata": {
        "id": "0c932b6b-90f4-4d8b-b207-207bf24ed0af",
        "outputId": "7edd3e23-3c5d-4d2c-e393-38c91d33180a"
      },
      "outputs": [
        {
          "name": "stdout",
          "output_type": "stream",
          "text": [
            "In the web page there are 7 tables\n"
          ]
        }
      ],
      "source": [
        "#find all html tables in the web page\n",
        "tables = soup.find_all('table') # in html table is represented by the tag <table>\n",
        "# number of tables in the web page:\n",
        "print(\"In the web page there are\", len(tables), \"tables\")"
      ]
    },
    {
      "cell_type": "code",
      "execution_count": null,
      "id": "8f2fa07c-99bd-4680-be8b-6963b574c4db",
      "metadata": {
        "id": "8f2fa07c-99bd-4680-be8b-6963b574c4db",
        "outputId": "651c3f22-df5b-45d6-d485-d0c1289d7a20"
      },
      "outputs": [
        {
          "name": "stdout",
          "output_type": "stream",
          "text": [
            "5\n"
          ]
        }
      ],
      "source": [
        "# I want to retrieve the table containing the following string:\n",
        "string = \"Outflow\"\n",
        "\n",
        "for index,table in enumerate(tables):\n",
        "    if (string in str(table)):\n",
        "        table_index = index\n",
        "print(table_index)"
      ]
    },
    {
      "cell_type": "code",
      "execution_count": null,
      "id": "f5079567-d8f6-44b0-8886-605a0216a712",
      "metadata": {
        "id": "f5079567-d8f6-44b0-8886-605a0216a712",
        "outputId": "de0a1402-a03f-4adf-80c0-b9e51a76e02e"
      },
      "outputs": [
        {
          "data": {
            "text/html": [
              "<div>\n",
              "<style scoped>\n",
              "    .dataframe tbody tr th:only-of-type {\n",
              "        vertical-align: middle;\n",
              "    }\n",
              "\n",
              "    .dataframe tbody tr th {\n",
              "        vertical-align: top;\n",
              "    }\n",
              "\n",
              "    .dataframe thead th {\n",
              "        text-align: right;\n",
              "    }\n",
              "</style>\n",
              "<table border=\"1\" class=\"dataframe\">\n",
              "  <thead>\n",
              "    <tr style=\"text-align: right;\">\n",
              "      <th></th>\n",
              "      <th>River</th>\n",
              "      <th>Length (km)</th>\n",
              "    </tr>\n",
              "  </thead>\n",
              "  <tbody>\n",
              "    <tr>\n",
              "      <th>0</th>\n",
              "      <td>Nile–White Nile–Kagera–Nyabarongo–Mwogo–Rukara...</td>\n",
              "      <td>6,650(7,088)</td>\n",
              "    </tr>\n",
              "    <tr>\n",
              "      <th>1</th>\n",
              "      <td>Amazon–Ucayali–Tambo–Ene–Mantaro[n 1]</td>\n",
              "      <td>6,400[4](6,992)</td>\n",
              "    </tr>\n",
              "    <tr>\n",
              "      <th>2</th>\n",
              "      <td>Yangtze–Jinsha–Tongtian–Dangqu (Chang Jiang)</td>\n",
              "      <td>6,300(6,418)</td>\n",
              "    </tr>\n",
              "    <tr>\n",
              "      <th>3</th>\n",
              "      <td>Mississippi–Missouri–Jefferson–Beaverhead–Red ...</td>\n",
              "      <td>6275</td>\n",
              "    </tr>\n",
              "    <tr>\n",
              "      <th>4</th>\n",
              "      <td>Yenisey–Angara–Selenga–Ider</td>\n",
              "      <td>5539</td>\n",
              "    </tr>\n",
              "    <tr>\n",
              "      <th>...</th>\n",
              "      <td>...</td>\n",
              "      <td>...</td>\n",
              "    </tr>\n",
              "    <tr>\n",
              "      <th>182</th>\n",
              "      <td>Loire</td>\n",
              "      <td>1012</td>\n",
              "    </tr>\n",
              "    <tr>\n",
              "      <th>183</th>\n",
              "      <td>Essequibo</td>\n",
              "      <td>1010</td>\n",
              "    </tr>\n",
              "    <tr>\n",
              "      <th>184</th>\n",
              "      <td>Khopyor</td>\n",
              "      <td>1010</td>\n",
              "    </tr>\n",
              "    <tr>\n",
              "      <th>185</th>\n",
              "      <td>Tagus(Tajo/Tejo)</td>\n",
              "      <td>1006</td>\n",
              "    </tr>\n",
              "    <tr>\n",
              "      <th>186</th>\n",
              "      <td>Flinders River</td>\n",
              "      <td>1,004 [15]</td>\n",
              "    </tr>\n",
              "  </tbody>\n",
              "</table>\n",
              "<p>187 rows × 2 columns</p>\n",
              "</div>"
            ],
            "text/plain": [
              "                                                 River      Length (km)\n",
              "0    Nile–White Nile–Kagera–Nyabarongo–Mwogo–Rukara...     6,650(7,088)\n",
              "1                Amazon–Ucayali–Tambo–Ene–Mantaro[n 1]  6,400[4](6,992)\n",
              "2         Yangtze–Jinsha–Tongtian–Dangqu (Chang Jiang)     6,300(6,418)\n",
              "3    Mississippi–Missouri–Jefferson–Beaverhead–Red ...             6275\n",
              "4                          Yenisey–Angara–Selenga–Ider             5539\n",
              "..                                                 ...              ...\n",
              "182                                              Loire             1012\n",
              "183                                          Essequibo             1010\n",
              "184                                            Khopyor             1010\n",
              "185                                   Tagus(Tajo/Tejo)             1006\n",
              "186                                     Flinders River       1,004 [15]\n",
              "\n",
              "[187 rows x 2 columns]"
            ]
          },
          "execution_count": 35,
          "metadata": {},
          "output_type": "execute_result"
        }
      ],
      "source": [
        "# Faster way to extract dataframe\n",
        "dataframe_list = pd.read_html(url, flavor='bs4')\n",
        "river_df = dataframe_list[table_index]\n",
        "river_df = river_df[['River', 'Length (km)']]\n",
        "river_df"
      ]
    },
    {
      "cell_type": "code",
      "execution_count": null,
      "id": "5bf4872d-5bdb-440b-bb75-c6a2967a86eb",
      "metadata": {
        "id": "5bf4872d-5bdb-440b-bb75-c6a2967a86eb",
        "outputId": "06076250-3ae2-4774-ec0e-79940550008d"
      },
      "outputs": [
        {
          "name": "stderr",
          "output_type": "stream",
          "text": [
            "/home/jupyterlab/conda/envs/python/lib/python3.7/site-packages/ipykernel_launcher.py:3: FutureWarning: The default value of regex will change from True to False in a future version.\n",
            "  This is separate from the ipykernel package so we can avoid doing imports until\n",
            "/home/jupyterlab/conda/envs/python/lib/python3.7/site-packages/ipykernel_launcher.py:3: SettingWithCopyWarning: \n",
            "A value is trying to be set on a copy of a slice from a DataFrame.\n",
            "Try using .loc[row_indexer,col_indexer] = value instead\n",
            "\n",
            "See the caveats in the documentation: https://pandas.pydata.org/pandas-docs/stable/user_guide/indexing.html#returning-a-view-versus-a-copy\n",
            "  This is separate from the ipykernel package so we can avoid doing imports until\n",
            "/home/jupyterlab/conda/envs/python/lib/python3.7/site-packages/ipykernel_launcher.py:5: FutureWarning: The default value of regex will change from True to False in a future version.\n",
            "  \"\"\"\n",
            "/home/jupyterlab/conda/envs/python/lib/python3.7/site-packages/ipykernel_launcher.py:5: SettingWithCopyWarning: \n",
            "A value is trying to be set on a copy of a slice from a DataFrame.\n",
            "Try using .loc[row_indexer,col_indexer] = value instead\n",
            "\n",
            "See the caveats in the documentation: https://pandas.pydata.org/pandas-docs/stable/user_guide/indexing.html#returning-a-view-versus-a-copy\n",
            "  \"\"\"\n",
            "/home/jupyterlab/conda/envs/python/lib/python3.7/site-packages/ipykernel_launcher.py:7: SettingWithCopyWarning: \n",
            "A value is trying to be set on a copy of a slice from a DataFrame.\n",
            "Try using .loc[row_indexer,col_indexer] = value instead\n",
            "\n",
            "See the caveats in the documentation: https://pandas.pydata.org/pandas-docs/stable/user_guide/indexing.html#returning-a-view-versus-a-copy\n",
            "  import sys\n"
          ]
        },
        {
          "data": {
            "text/html": [
              "<div>\n",
              "<style scoped>\n",
              "    .dataframe tbody tr th:only-of-type {\n",
              "        vertical-align: middle;\n",
              "    }\n",
              "\n",
              "    .dataframe tbody tr th {\n",
              "        vertical-align: top;\n",
              "    }\n",
              "\n",
              "    .dataframe thead th {\n",
              "        text-align: right;\n",
              "    }\n",
              "</style>\n",
              "<table border=\"1\" class=\"dataframe\">\n",
              "  <thead>\n",
              "    <tr style=\"text-align: right;\">\n",
              "      <th></th>\n",
              "      <th>River</th>\n",
              "      <th>Length (km)</th>\n",
              "    </tr>\n",
              "  </thead>\n",
              "  <tbody>\n",
              "    <tr>\n",
              "      <th>0</th>\n",
              "      <td>Nile–White Nile–Kagera–Nyabarongo–Mwogo–Rukara...</td>\n",
              "      <td>6650</td>\n",
              "    </tr>\n",
              "    <tr>\n",
              "      <th>1</th>\n",
              "      <td>Amazon–Ucayali–Tambo–Ene–Mantaro[n 1]</td>\n",
              "      <td>6400</td>\n",
              "    </tr>\n",
              "    <tr>\n",
              "      <th>2</th>\n",
              "      <td>Yangtze–Jinsha–Tongtian–Dangqu (Chang Jiang)</td>\n",
              "      <td>6300</td>\n",
              "    </tr>\n",
              "    <tr>\n",
              "      <th>3</th>\n",
              "      <td>Mississippi–Missouri–Jefferson–Beaverhead–Red ...</td>\n",
              "      <td>6275</td>\n",
              "    </tr>\n",
              "    <tr>\n",
              "      <th>4</th>\n",
              "      <td>Yenisey–Angara–Selenga–Ider</td>\n",
              "      <td>5539</td>\n",
              "    </tr>\n",
              "    <tr>\n",
              "      <th>...</th>\n",
              "      <td>...</td>\n",
              "      <td>...</td>\n",
              "    </tr>\n",
              "    <tr>\n",
              "      <th>182</th>\n",
              "      <td>Loire</td>\n",
              "      <td>1012</td>\n",
              "    </tr>\n",
              "    <tr>\n",
              "      <th>183</th>\n",
              "      <td>Essequibo</td>\n",
              "      <td>1010</td>\n",
              "    </tr>\n",
              "    <tr>\n",
              "      <th>184</th>\n",
              "      <td>Khopyor</td>\n",
              "      <td>1010</td>\n",
              "    </tr>\n",
              "    <tr>\n",
              "      <th>185</th>\n",
              "      <td>Tagus(Tajo/Tejo)</td>\n",
              "      <td>1006</td>\n",
              "    </tr>\n",
              "    <tr>\n",
              "      <th>186</th>\n",
              "      <td>Flinders River</td>\n",
              "      <td>1004</td>\n",
              "    </tr>\n",
              "  </tbody>\n",
              "</table>\n",
              "<p>187 rows × 2 columns</p>\n",
              "</div>"
            ],
            "text/plain": [
              "                                                 River Length (km)\n",
              "0    Nile–White Nile–Kagera–Nyabarongo–Mwogo–Rukara...        6650\n",
              "1                Amazon–Ucayali–Tambo–Ene–Mantaro[n 1]        6400\n",
              "2         Yangtze–Jinsha–Tongtian–Dangqu (Chang Jiang)        6300\n",
              "3    Mississippi–Missouri–Jefferson–Beaverhead–Red ...        6275\n",
              "4                          Yenisey–Angara–Selenga–Ider        5539\n",
              "..                                                 ...         ...\n",
              "182                                              Loire        1012\n",
              "183                                          Essequibo        1010\n",
              "184                                            Khopyor        1010\n",
              "185                                   Tagus(Tajo/Tejo)        1006\n",
              "186                                     Flinders River       1004 \n",
              "\n",
              "[187 rows x 2 columns]"
            ]
          },
          "execution_count": 42,
          "metadata": {},
          "output_type": "execute_result"
        }
      ],
      "source": [
        "# clean badly formatted data\n",
        "# delete parenthesis () and what's inside\n",
        "river_df['Length (km)'] = river_df['Length (km)'].str.replace(r\"\\(.*\\)\",\"\")\n",
        "# delete parenthesis [] and what's inside\n",
        "river_df['Length (km)'] = river_df['Length (km)'].str.replace(r\"\\[.*\\]\",\"\")\n",
        "# remove commas\n",
        "river_df['Length (km)'] = river_df['Length (km)'].str.replace(\",\",\"\")\n",
        "river_df"
      ]
    },
    {
      "cell_type": "code",
      "execution_count": null,
      "id": "ed9b3f23-4c52-465e-9f20-dbf222dc6427",
      "metadata": {
        "id": "ed9b3f23-4c52-465e-9f20-dbf222dc6427"
      },
      "outputs": [],
      "source": [
        "# I define a function to get the 1st digit of the river length\n",
        "def get_leading_digit(row):\n",
        "    num = row['Length (km)']\n",
        "    num_str = str(num)\n",
        "    return num_str[0]"
      ]
    },
    {
      "cell_type": "code",
      "execution_count": null,
      "id": "bc190bbe-fa64-494f-b4cb-68dcbfd5ac53",
      "metadata": {
        "id": "bc190bbe-fa64-494f-b4cb-68dcbfd5ac53",
        "outputId": "add0fa60-0e43-493d-aefc-74009e4e1acb"
      },
      "outputs": [
        {
          "name": "stderr",
          "output_type": "stream",
          "text": [
            "/home/jupyterlab/conda/envs/python/lib/python3.7/site-packages/ipykernel_launcher.py:2: SettingWithCopyWarning: \n",
            "A value is trying to be set on a copy of a slice from a DataFrame.\n",
            "Try using .loc[row_indexer,col_indexer] = value instead\n",
            "\n",
            "See the caveats in the documentation: https://pandas.pydata.org/pandas-docs/stable/user_guide/indexing.html#returning-a-view-versus-a-copy\n",
            "  \n"
          ]
        }
      ],
      "source": [
        "# I add a column for the leading digit\n",
        "river_df['Leading Digit'] = river_df.apply (lambda row: get_leading_digit(row), axis=1)"
      ]
    },
    {
      "cell_type": "code",
      "execution_count": null,
      "id": "0f855c36-7706-46bc-9611-c2dd244c9764",
      "metadata": {
        "id": "0f855c36-7706-46bc-9611-c2dd244c9764",
        "outputId": "3a070533-4e76-461f-9079-033a302ac539"
      },
      "outputs": [
        {
          "data": {
            "text/html": [
              "<div>\n",
              "<style scoped>\n",
              "    .dataframe tbody tr th:only-of-type {\n",
              "        vertical-align: middle;\n",
              "    }\n",
              "\n",
              "    .dataframe tbody tr th {\n",
              "        vertical-align: top;\n",
              "    }\n",
              "\n",
              "    .dataframe thead th {\n",
              "        text-align: right;\n",
              "    }\n",
              "</style>\n",
              "<table border=\"1\" class=\"dataframe\">\n",
              "  <thead>\n",
              "    <tr style=\"text-align: right;\">\n",
              "      <th></th>\n",
              "      <th>Count</th>\n",
              "    </tr>\n",
              "    <tr>\n",
              "      <th>Leading Digit</th>\n",
              "      <th></th>\n",
              "    </tr>\n",
              "  </thead>\n",
              "  <tbody>\n",
              "    <tr>\n",
              "      <th>1</th>\n",
              "      <td>125</td>\n",
              "    </tr>\n",
              "    <tr>\n",
              "      <th>2</th>\n",
              "      <td>34</td>\n",
              "    </tr>\n",
              "    <tr>\n",
              "      <th>3</th>\n",
              "      <td>14</td>\n",
              "    </tr>\n",
              "    <tr>\n",
              "      <th>4</th>\n",
              "      <td>7</td>\n",
              "    </tr>\n",
              "    <tr>\n",
              "      <th>5</th>\n",
              "      <td>3</td>\n",
              "    </tr>\n",
              "    <tr>\n",
              "      <th>6</th>\n",
              "      <td>4</td>\n",
              "    </tr>\n",
              "  </tbody>\n",
              "</table>\n",
              "</div>"
            ],
            "text/plain": [
              "               Count\n",
              "Leading Digit       \n",
              "1                125\n",
              "2                 34\n",
              "3                 14\n",
              "4                  7\n",
              "5                  3\n",
              "6                  4"
            ]
          },
          "execution_count": 50,
          "metadata": {},
          "output_type": "execute_result"
        }
      ],
      "source": [
        "# Isolate the result\n",
        "result = river_df.groupby('Leading Digit').count()\n",
        "result = result['Length (km)']\n",
        "result = pd.DataFrame(result)\n",
        "result = result.rename(columns={'Length (km)': 'Count'})\n",
        "result"
      ]
    },
    {
      "cell_type": "code",
      "execution_count": null,
      "id": "ac9b8f98-358b-49aa-bf99-85ce924cdef1",
      "metadata": {
        "id": "ac9b8f98-358b-49aa-bf99-85ce924cdef1",
        "outputId": "f7c3892a-2325-4420-d24f-c73ce65bf3f0"
      },
      "outputs": [
        {
          "data": {
            "text/plain": [
              "187"
            ]
          },
          "execution_count": 53,
          "metadata": {},
          "output_type": "execute_result"
        }
      ],
      "source": [
        "total = result['Count'].sum()\n",
        "total"
      ]
    },
    {
      "cell_type": "code",
      "execution_count": null,
      "id": "600541d8-467d-4090-ac12-3ba38e02e8ac",
      "metadata": {
        "id": "600541d8-467d-4090-ac12-3ba38e02e8ac"
      },
      "outputs": [],
      "source": [
        "result['Actual Percentage'] = result['Count'].apply(lambda x: x / total)\n",
        "result"
      ]
    },
    {
      "cell_type": "code",
      "execution_count": null,
      "id": "485e14b2-8f43-45f6-94cc-bbbb2b676656",
      "metadata": {
        "id": "485e14b2-8f43-45f6-94cc-bbbb2b676656",
        "outputId": "948f7628-138c-4ca8-8ddd-a4a704d5ca3b"
      },
      "outputs": [
        {
          "data": {
            "text/html": [
              "<div>\n",
              "<style scoped>\n",
              "    .dataframe tbody tr th:only-of-type {\n",
              "        vertical-align: middle;\n",
              "    }\n",
              "\n",
              "    .dataframe tbody tr th {\n",
              "        vertical-align: top;\n",
              "    }\n",
              "\n",
              "    .dataframe thead th {\n",
              "        text-align: right;\n",
              "    }\n",
              "</style>\n",
              "<table border=\"1\" class=\"dataframe\">\n",
              "  <thead>\n",
              "    <tr style=\"text-align: right;\">\n",
              "      <th></th>\n",
              "      <th>Leading Digit</th>\n",
              "      <th>Count</th>\n",
              "      <th>Actual Percentage</th>\n",
              "      <th>Benfords Law</th>\n",
              "    </tr>\n",
              "  </thead>\n",
              "  <tbody>\n",
              "    <tr>\n",
              "      <th>0</th>\n",
              "      <td>1</td>\n",
              "      <td>125</td>\n",
              "      <td>0.668449</td>\n",
              "      <td>0.301030</td>\n",
              "    </tr>\n",
              "    <tr>\n",
              "      <th>1</th>\n",
              "      <td>2</td>\n",
              "      <td>34</td>\n",
              "      <td>0.181818</td>\n",
              "      <td>0.176091</td>\n",
              "    </tr>\n",
              "    <tr>\n",
              "      <th>2</th>\n",
              "      <td>3</td>\n",
              "      <td>14</td>\n",
              "      <td>0.074866</td>\n",
              "      <td>0.124939</td>\n",
              "    </tr>\n",
              "    <tr>\n",
              "      <th>3</th>\n",
              "      <td>4</td>\n",
              "      <td>7</td>\n",
              "      <td>0.037433</td>\n",
              "      <td>0.096910</td>\n",
              "    </tr>\n",
              "    <tr>\n",
              "      <th>4</th>\n",
              "      <td>5</td>\n",
              "      <td>3</td>\n",
              "      <td>0.016043</td>\n",
              "      <td>0.079181</td>\n",
              "    </tr>\n",
              "    <tr>\n",
              "      <th>5</th>\n",
              "      <td>6</td>\n",
              "      <td>4</td>\n",
              "      <td>0.021390</td>\n",
              "      <td>0.066947</td>\n",
              "    </tr>\n",
              "  </tbody>\n",
              "</table>\n",
              "</div>"
            ],
            "text/plain": [
              "  Leading Digit  Count  Actual Percentage  Benfords Law\n",
              "0             1    125           0.668449      0.301030\n",
              "1             2     34           0.181818      0.176091\n",
              "2             3     14           0.074866      0.124939\n",
              "3             4      7           0.037433      0.096910\n",
              "4             5      3           0.016043      0.079181\n",
              "5             6      4           0.021390      0.066947"
            ]
          },
          "execution_count": 54,
          "metadata": {},
          "output_type": "execute_result"
        }
      ],
      "source": [
        "result = result.reset_index()\n",
        "result['Benfords Law'] = result['Leading Digit'].apply(lambda i: benfords_law(i))\n",
        "result"
      ]
    },
    {
      "cell_type": "markdown",
      "id": "1329e378-2c3d-4c66-9f8e-d3abf383fced",
      "metadata": {
        "id": "1329e378-2c3d-4c66-9f8e-d3abf383fced"
      },
      "source": [
        "Here I can see that river length apparently doesn't follow Benford's Law. But the reason is straightforward: the table I found on Wikipedia contains only the rivers that are longer than 1,000 km. And since no river is longer than 7,000 km, we don't have counts for digits 7, 8 and 9.\n",
        "\n",
        "If I could find a complete river table I suppose it will follow Benford's Law. In fact here I see that it sort of follows a \"truncated\" Benford's Law where the highest frequency is for smaller digits."
      ]
    }
  ],
  "metadata": {
    "kernelspec": {
      "display_name": "Python",
      "language": "python",
      "name": "conda-env-python-py"
    },
    "language_info": {
      "codemirror_mode": {
        "name": "ipython",
        "version": 3
      },
      "file_extension": ".py",
      "mimetype": "text/x-python",
      "name": "python",
      "nbconvert_exporter": "python",
      "pygments_lexer": "ipython3",
      "version": "3.7.12"
    },
    "colab": {
      "name": "Benfords Law.ipynb",
      "provenance": []
    }
  },
  "nbformat": 4,
  "nbformat_minor": 5
}