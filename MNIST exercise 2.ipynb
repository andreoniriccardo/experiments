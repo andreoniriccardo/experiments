{
  "nbformat": 4,
  "nbformat_minor": 0,
  "metadata": {
    "colab": {
      "name": "Untitled2.ipynb",
      "provenance": [],
      "authorship_tag": "ABX9TyOrQaNEQzA+1fVTlKpWDCZ3",
      "include_colab_link": true
    },
    "kernelspec": {
      "name": "python3",
      "display_name": "Python 3"
    },
    "language_info": {
      "name": "python"
    }
  },
  "cells": [
    {
      "cell_type": "markdown",
      "metadata": {
        "id": "view-in-github",
        "colab_type": "text"
      },
      "source": [
        "<a href=\"https://colab.research.google.com/github/riccardo0001/Experiments/blob/main/MNIST%20exercise%202.ipynb\" target=\"_parent\"><img src=\"https://colab.research.google.com/assets/colab-badge.svg\" alt=\"Open In Colab\"/></a>"
      ]
    },
    {
      "cell_type": "markdown",
      "source": [
        "# OPTICAL CHARACTER RECOGNITION (MNIST DATASET)"
      ],
      "metadata": {
        "id": "9sSnv6YTAsk2"
      }
    },
    {
      "cell_type": "code",
      "source": [
        "# import the dataset\n",
        "from sklearn.datasets import fetch_openml\n",
        "mnist = fetch_openml('mnist_784', version=1)"
      ],
      "metadata": {
        "id": "UyLGnqgUA1xP"
      },
      "execution_count": null,
      "outputs": []
    },
    {
      "cell_type": "code",
      "source": [
        "mnist.keys()"
      ],
      "metadata": {
        "colab": {
          "base_uri": "https://localhost:8080/"
        },
        "id": "m0EDWjNZBHTE",
        "outputId": "82b79472-1093-4b36-a69d-30b595f0cfa3"
      },
      "execution_count": null,
      "outputs": [
        {
          "output_type": "execute_result",
          "data": {
            "text/plain": [
              "dict_keys(['data', 'target', 'frame', 'categories', 'feature_names', 'target_names', 'DESCR', 'details', 'url'])"
            ]
          },
          "metadata": {},
          "execution_count": 2
        }
      ]
    },
    {
      "cell_type": "code",
      "source": [
        "# fetch the data into input features X and target y\n",
        "X = mnist.data\n",
        "y = mnist.target.astype(int)"
      ],
      "metadata": {
        "id": "3aFvU_H3BaP2"
      },
      "execution_count": null,
      "outputs": []
    },
    {
      "cell_type": "code",
      "source": [
        "# define function to print the images\n",
        "import matplotlib.pyplot as plt\n",
        "def print_image(index):\n",
        "  example = X.loc[index].values\n",
        "  example = example.reshape(28,28)\n",
        "  plt.imshow(example, cmap='GnBu')\n",
        "  plt.axis('off')"
      ],
      "metadata": {
        "id": "q8_y2MBZBw-l"
      },
      "execution_count": null,
      "outputs": []
    },
    {
      "cell_type": "code",
      "source": [
        "print_image(6526)"
      ],
      "metadata": {
        "colab": {
          "base_uri": "https://localhost:8080/",
          "height": 248
        },
        "id": "SyR7Ofm7ByXZ",
        "outputId": "e13b99d2-e236-4445-aed6-7b24d24b2206"
      },
      "execution_count": null,
      "outputs": [
        {
          "output_type": "display_data",
          "data": {
            "text/plain": [
              "<Figure size 432x288 with 1 Axes>"
            ],
            "image/png": "[encoded data removed]"
          },
          "metadata": {
            "needs_background": "light"
          }
        }
      ]
    },
    {
      "cell_type": "code",
      "source": [
        "# divide into train & test sets\n",
        "from sklearn.model_selection import train_test_split\n",
        "X_train, X_test, y_train, y_test = train_test_split(X, y, test_size=0.2, random_state=42) \n",
        "print('Train set size:', X_train.shape)\n",
        "print('Test set size:', X_test.shape)"
      ],
      "metadata": {
        "colab": {
          "base_uri": "https://localhost:8080/"
        },
        "id": "M6KOyLurCPKJ",
        "outputId": "38ca24b0-2bca-4695-b9a3-cea96f5741c5"
      },
      "execution_count": null,
      "outputs": [
        {
          "output_type": "stream",
          "name": "stdout",
          "text": [
            "Train set size: (56000, 784)\n",
            "Test set size: (14000, 784)\n"
          ]
        }
      ]
    },
    {
      "cell_type": "code",
      "source": [
        "# try with K neighbors classifier\n",
        "from sklearn.neighbors import KNeighborsClassifier\n",
        "KNC = KNeighborsClassifier()\n",
        "KNC.fit(X_train, y_train)\n",
        "KNC.predict(X_train.loc[43].values.reshape(1,784))"
      ],
      "metadata": {
        "colab": {
          "base_uri": "https://localhost:8080/"
        },
        "id": "F6y-c0MaIObi",
        "outputId": "33fa2aad-d1f2-46eb-fb22-6c462b66a791"
      },
      "execution_count": null,
      "outputs": [
        {
          "output_type": "stream",
          "name": "stderr",
          "text": [
            "/usr/local/lib/python3.7/dist-packages/sklearn/base.py:451: UserWarning: X does not have valid feature names, but KNeighborsClassifier was fitted with feature names\n",
            "  \"X does not have valid feature names, but\"\n"
          ]
        },
        {
          "output_type": "execute_result",
          "data": {
            "text/plain": [
              "array([9])"
            ]
          },
          "metadata": {},
          "execution_count": 7
        }
      ]
    },
    {
      "cell_type": "code",
      "source": [
        "print_image(43)"
      ],
      "metadata": {
        "colab": {
          "base_uri": "https://localhost:8080/",
          "height": 248
        },
        "id": "14pEuHNeI1cN",
        "outputId": "80d8bc0e-f350-4c00-d25d-d303b843556f"
      },
      "execution_count": null,
      "outputs": [
        {
          "output_type": "display_data",
          "data": {
            "text/plain": [
              "<Figure size 432x288 with 1 Axes>"
            ],
            "image/png": "[encoded data removed]"
          },
          "metadata": {
            "needs_background": "light"
          }
        }
      ]
    },
    {
      "cell_type": "code",
      "source": [
        "# get evaluation metrics\n",
        "from sklearn.model_selection import cross_val_score\n",
        "cross_val_score(KNC, X_train, y_train, cv=4, scoring=\"accuracy\")"
      ],
      "metadata": {
        "colab": {
          "base_uri": "https://localhost:8080/"
        },
        "id": "qIbXTnZxJkPT",
        "outputId": "7e99b5c9-cad6-4f24-a553-219d37ba583b"
      },
      "execution_count": null,
      "outputs": [
        {
          "output_type": "execute_result",
          "data": {
            "text/plain": [
              "array([0.9675    , 0.96957143, 0.97057143, 0.9665    ])"
            ]
          },
          "metadata": {},
          "execution_count": 9
        }
      ]
    },
    {
      "cell_type": "code",
      "source": [
        "# it's good but I try better hyperparameters\n",
        "from sklearn.model_selection import GridSearchCV\n",
        "KNC_grid_tuned = KNeighborsClassifier()\n",
        "parameters = {'leaf_size':list(range(1,50)), 'n_neighbors':list(range(1,35)), 'p':[1,2]}\n",
        "grid_search = GridSearchCV(KNC_grid_tuned, parameters, cv=5, scoring='accuracy', return_train_score=True)\n",
        "grid_search.fit(X_train, y_train)"
      ],
      "metadata": {
        "id": "TBDheRHMKQsj",
        "outputId": "42382a72-4d52-41a7-a80d-73814c563132",
        "colab": {
          "base_uri": "https://localhost:8080/"
        }
      },
      "execution_count": null,
      "outputs": [
        {
          "metadata": {
            "tags": null
          },
          "name": "stdout",
          "output_type": "stream",
          "text": [
            "Fitting 2 folds for each of 12 candidates, totalling 24 fits\n",
            "[CV 1/2; 1/12] START n_neighbors=4, p=1, weights=uniform........................\n",
            "[CV 1/2; 1/12] END n_neighbors=4, p=1, weights=uniform;, score=(train=0.970, test=0.956) total time=10.7min\n",
            "[CV 2/2; 1/12] START n_neighbors=4, p=1, weights=uniform........................\n"
          ]
        }
      ]
    },
    {
      "cell_type": "code",
      "source": [
        "y_train.value_counts()/len(y_train)"
      ],
      "metadata": {
        "id": "lxAr04qRxFEF",
        "outputId": "1776ea4a-5012-43b0-974c-cfbe25e31f61",
        "colab": {
          "base_uri": "https://localhost:8080/"
        }
      },
      "execution_count": null,
      "outputs": [
        {
          "output_type": "execute_result",
          "data": {
            "text/plain": [
              "1    0.112089\n",
              "7    0.103393\n",
              "3    0.101929\n",
              "2    0.100179\n",
              "0    0.099286\n",
              "9    0.098893\n",
              "4    0.098732\n",
              "6    0.097857\n",
              "8    0.097643\n",
              "5    0.090000\n",
              "Name: class, dtype: float64"
            ]
          },
          "metadata": {},
          "execution_count": 14
        }
      ]
    },
    {
      "cell_type": "code",
      "source": [
        ""
      ],
      "metadata": {
        "id": "-Vp9vQipxQ-m"
      },
      "execution_count": null,
      "outputs": []
    }
  ]
}