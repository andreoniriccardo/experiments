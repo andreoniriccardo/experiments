{
  "cells": [
    {
      "cell_type": "markdown",
      "source": [
        "# MNIST"
      ],
      "metadata": {
        "id": "W0_mJQtObWd7"
      },
      "id": "W0_mJQtObWd7"
    },
    {
      "cell_type": "code",
      "source": [
        "# import dataset\n",
        "import numpy as np\n",
        "from sklearn.datasets import fetch_openml\n",
        "mnist = fetch_openml('mnist_784', version=1)\n",
        "mnist.keys()"
      ],
      "metadata": {
        "id": "aNgMvTVxbbMr",
        "outputId": "e6bbaa1b-7231-4ead-908a-be85492f0a4d",
        "colab": {
          "base_uri": "https://localhost:8080/"
        }
      },
      "id": "aNgMvTVxbbMr",
      "execution_count": 2,
      "outputs": [
        {
          "output_type": "execute_result",
          "data": {
            "text/plain": [
              "dict_keys(['data', 'target', 'frame', 'categories', 'feature_names', 'target_names', 'DESCR', 'details', 'url'])"
            ]
          },
          "metadata": {},
          "execution_count": 2
        }
      ]
    },
    {
      "cell_type": "code",
      "source": [
        "mnist.DESCR"
      ],
      "metadata": {
        "id": "ChGIoF0ubrLV",
        "outputId": "cde12638-4e15-4e0e-e677-30b4843366ae",
        "colab": {
          "base_uri": "https://localhost:8080/",
          "height": 139
        }
      },
      "id": "ChGIoF0ubrLV",
      "execution_count": 3,
      "outputs": [
        {
          "output_type": "execute_result",
          "data": {
            "text/plain": [
              "\"**Author**: Yann LeCun, Corinna Cortes, Christopher J.C. Burges  \\n**Source**: [MNIST Website](http://yann.lecun.com/exdb/mnist/) - Date unknown  \\n**Please cite**:  \\n\\nThe MNIST database of handwritten digits with 784 features, raw data available at: http://yann.lecun.com/exdb/mnist/. It can be split in a training set of the first 60,000 examples, and a test set of 10,000 examples  \\n\\nIt is a subset of a larger set available from NIST. The digits have been size-normalized and centered in a fixed-size image. It is a good database for people who want to try learning techniques and pattern recognition methods on real-world data while spending minimal efforts on preprocessing and formatting. The original black and white (bilevel) images from NIST were size normalized to fit in a 20x20 pixel box while preserving their aspect ratio. The resulting images contain grey levels as a result of the anti-aliasing technique used by the normalization algorithm. the images were centered in a 28x28 image by computing the center of mass of the pixels, and translating the image so as to position this point at the center of the 28x28 field.  \\n\\nWith some classification methods (particularly template-based methods, such as SVM and K-nearest neighbors), the error rate improves when the digits are centered by bounding box rather than center of mass. If you do this kind of pre-processing, you should report it in your publications. The MNIST database was constructed from NIST's NIST originally designated SD-3 as their training set and SD-1 as their test set. However, SD-3 is much cleaner and easier to recognize than SD-1. The reason for this can be found on the fact that SD-3 was collected among Census Bureau employees, while SD-1 was collected among high-school students. Drawing sensible conclusions from learning experiments requires that the result be independent of the choice of training set and test among the complete set of samples. Therefore it was necessary to build a new database by mixing NIST's datasets.  \\n\\nThe MNIST training set is composed of 30,000 patterns from SD-3 and 30,000 patterns from SD-1. Our test set was composed of 5,000 patterns from SD-3 and 5,000 patterns from SD-1. The 60,000 pattern training set contained examples from approximately 250 writers. We made sure that the sets of writers of the training set and test set were disjoint. SD-1 contains 58,527 digit images written by 500 different writers. In contrast to SD-3, where blocks of data from each writer appeared in sequence, the data in SD-1 is scrambled. Writer identities for SD-1 is available and we used this information to unscramble the writers. We then split SD-1 in two: characters written by the first 250 writers went into our new training set. The remaining 250 writers were placed in our test set. Thus we had two sets with nearly 30,000 examples each. The new training set was completed with enough examples from SD-3, starting at pattern # 0, to make a full set of 60,000 training patterns. Similarly, the new test set was completed with SD-3 examples starting at pattern # 35,000 to make a full set with 60,000 test patterns. Only a subset of 10,000 test images (5,000 from SD-1 and 5,000 from SD-3) is available on this site. The full 60,000 sample training set is available.\\n\\nDownloaded from openml.org.\""
            ],
            "application/vnd.google.colaboratory.intrinsic+json": {
              "type": "string"
            }
          },
          "metadata": {},
          "execution_count": 3
        }
      ]
    },
    {
      "cell_type": "code",
      "source": [
        "# unpack the data\n",
        "X, y = mnist[\"data\"], mnist[\"target\"]\n",
        "print('X shape:', X.shape)\n",
        "print('y shape:', y.shape)"
      ],
      "metadata": {
        "id": "s1K96GHjcAm1",
        "outputId": "60683833-06d1-43d6-eb02-45cbc50a879a",
        "colab": {
          "base_uri": "https://localhost:8080/"
        }
      },
      "id": "s1K96GHjcAm1",
      "execution_count": 4,
      "outputs": [
        {
          "output_type": "stream",
          "name": "stdout",
          "text": [
            "X shape: (70000, 784)\n",
            "y shape: (70000,)\n"
          ]
        }
      ]
    },
    {
      "cell_type": "code",
      "source": [
        "# what a sample looks like\n",
        "X.loc[0,:]"
      ],
      "metadata": {
        "id": "FX88yj3HccZe",
        "outputId": "3d9c6be0-6636-4b7e-accd-7747aea7cb83",
        "colab": {
          "base_uri": "https://localhost:8080/"
        }
      },
      "id": "FX88yj3HccZe",
      "execution_count": 5,
      "outputs": [
        {
          "output_type": "execute_result",
          "data": {
            "text/plain": [
              "pixel1      0.0\n",
              "pixel2      0.0\n",
              "pixel3      0.0\n",
              "pixel4      0.0\n",
              "pixel5      0.0\n",
              "           ... \n",
              "pixel780    0.0\n",
              "pixel781    0.0\n",
              "pixel782    0.0\n",
              "pixel783    0.0\n",
              "pixel784    0.0\n",
              "Name: 0, Length: 784, dtype: float64"
            ]
          },
          "metadata": {},
          "execution_count": 5
        }
      ]
    },
    {
      "cell_type": "code",
      "source": [
        "# plot a sample\n",
        "import matplotlib as mpl\n",
        "import matplotlib.pyplot as plt\n",
        "example = X.loc[0,:].values\n",
        "example_image = example.reshape(28,28)\n",
        "plt.imshow(example_image, cmap=\"binary\")\n",
        "plt.axis(\"off\")"
      ],
      "metadata": {
        "id": "8m0VGuylcfsN",
        "outputId": "79696a29-f120-4946-99f4-9076a694d183",
        "colab": {
          "base_uri": "https://localhost:8080/",
          "height": 265
        }
      },
      "id": "8m0VGuylcfsN",
      "execution_count": 27,
      "outputs": [
        {
          "output_type": "execute_result",
          "data": {
            "text/plain": [
              "(-0.5, 27.5, 27.5, -0.5)"
            ]
          },
          "metadata": {},
          "execution_count": 27
        },
        {
          "output_type": "display_data",
          "data": {
            "text/plain": [
              "<Figure size 432x288 with 1 Axes>"
            ],
            "image/png": "[encoded data removed]"
          },
          "metadata": {
            "needs_background": "light"
          }
        }
      ]
    },
    {
      "cell_type": "code",
      "source": [
        "# label\n",
        "y[0]\n",
        "# it's a string, so cast it as integer\n",
        "y = y.astype(int)"
      ],
      "metadata": {
        "id": "WQH2_f23et_x"
      },
      "id": "WQH2_f23et_x",
      "execution_count": 7,
      "outputs": []
    },
    {
      "cell_type": "code",
      "source": [
        "# train-test split\n",
        "X_train, X_test, y_train, y_test = X[:60000], X[60000:], y[:60000], y[60000:]"
      ],
      "metadata": {
        "id": "TUueWDs9fEFa"
      },
      "id": "TUueWDs9fEFa",
      "execution_count": 8,
      "outputs": []
    },
    {
      "cell_type": "code",
      "source": [
        "# ONE VS ALL: label = 5\n",
        "# train a classifier able to detect whether the images shows a 5\n",
        "# create dataset with True/False labels (for 5/not-5 samples)\n",
        "y_train_5 = y_train == 5\n",
        "y_test_5 = y_test == 5\n",
        "\n",
        "# train the classifier (use Stochastic Gradient Descent classifier)\n",
        "from sklearn.linear_model import SGDClassifier\n",
        "sgd_clf = SGDClassifier(random_state=42)\n",
        "sgd_clf.fit(X_train, y_train_5)"
      ],
      "metadata": {
        "id": "fenScjccfGom",
        "outputId": "07df909c-0d82-45be-a0d9-537a0785acff",
        "colab": {
          "base_uri": "https://localhost:8080/"
        }
      },
      "id": "fenScjccfGom",
      "execution_count": 9,
      "outputs": [
        {
          "output_type": "execute_result",
          "data": {
            "text/plain": [
              "SGDClassifier(random_state=42)"
            ]
          },
          "metadata": {},
          "execution_count": 9
        }
      ]
    },
    {
      "cell_type": "code",
      "source": [
        "# predict\n",
        "sgd_clf.predict([example])"
      ],
      "metadata": {
        "id": "BIo35xUXh6S9",
        "outputId": "a3badd62-728d-4bdd-db27-cd1e8f347138",
        "colab": {
          "base_uri": "https://localhost:8080/"
        }
      },
      "id": "BIo35xUXh6S9",
      "execution_count": 26,
      "outputs": [
        {
          "output_type": "stream",
          "name": "stderr",
          "text": [
            "/usr/local/lib/python3.7/dist-packages/sklearn/base.py:451: UserWarning: X does not have valid feature names, but SGDClassifier was fitted with feature names\n",
            "  \"X does not have valid feature names, but\"\n"
          ]
        },
        {
          "output_type": "execute_result",
          "data": {
            "text/plain": [
              "array([ True])"
            ]
          },
          "metadata": {},
          "execution_count": 26
        }
      ]
    },
    {
      "cell_type": "code",
      "source": [
        "# model evaluation\n",
        "# at first, use cross validation with 3 folds\n",
        "from sklearn.model_selection import cross_val_score\n",
        "cross_val_score(sgd_clf, X_train, y_train_5, cv=3, scoring=\"accuracy\")"
      ],
      "metadata": {
        "id": "LR3_OqrHjm4u",
        "outputId": "e6bda9c3-a576-4fa1-888f-aa2776960877",
        "colab": {
          "base_uri": "https://localhost:8080/"
        }
      },
      "id": "LR3_OqrHjm4u",
      "execution_count": 11,
      "outputs": [
        {
          "output_type": "execute_result",
          "data": {
            "text/plain": [
              "array([0.95035, 0.96035, 0.9604 ])"
            ]
          },
          "metadata": {},
          "execution_count": 11
        }
      ]
    },
    {
      "cell_type": "code",
      "source": [
        "# for skewed classes it's better to use the confusion matrix\n",
        "from sklearn.model_selection import cross_val_predict\n",
        "y_train_pred = cross_val_predict(sgd_clf, X_train, y_train_5, cv=3)\n",
        "y_train_pred"
      ],
      "metadata": {
        "id": "E58ptB_PlkIF",
        "outputId": "fcaa2f1e-861d-4548-ffce-662e2da2ac03",
        "colab": {
          "base_uri": "https://localhost:8080/"
        }
      },
      "id": "E58ptB_PlkIF",
      "execution_count": 12,
      "outputs": [
        {
          "output_type": "execute_result",
          "data": {
            "text/plain": [
              "array([ True, False, False, ...,  True, False, False])"
            ]
          },
          "metadata": {},
          "execution_count": 12
        }
      ]
    },
    {
      "cell_type": "code",
      "source": [
        "from sklearn.metrics import confusion_matrix\n",
        "confusion_matrix(y_train_5, y_train_pred)"
      ],
      "metadata": {
        "id": "HYHpRAqF8z04",
        "outputId": "a919a9fe-4c8a-47fe-b308-f1087e45252e",
        "colab": {
          "base_uri": "https://localhost:8080/"
        }
      },
      "id": "HYHpRAqF8z04",
      "execution_count": 13,
      "outputs": [
        {
          "output_type": "execute_result",
          "data": {
            "text/plain": [
              "array([[53892,   687],\n",
              "       [ 1891,  3530]])"
            ]
          },
          "metadata": {},
          "execution_count": 13
        }
      ]
    },
    {
      "cell_type": "code",
      "source": [
        "# compute precision and recall\n",
        "from sklearn.metrics import precision_score, recall_score\n",
        "print(\"Precision score:\", precision_score(y_train_5, y_train_pred))\n",
        "print(\"Precision score:\", recall_score(y_train_5, y_train_pred))\n",
        "\n",
        "# compute F1 score\n",
        "from sklearn.metrics import f1_score\n",
        "print(\"F1 score:\", f1_score(y_train_5, y_train_pred))"
      ],
      "metadata": {
        "id": "49vfpGsg8_gG",
        "outputId": "8ed90870-fc78-419c-f1e5-40512a4c2ccb",
        "colab": {
          "base_uri": "https://localhost:8080/"
        }
      },
      "id": "49vfpGsg8_gG",
      "execution_count": 30,
      "outputs": [
        {
          "output_type": "stream",
          "name": "stdout",
          "text": [
            "Precision score: 0.8370879772350012\n",
            "Precision score: 0.6511713705958311\n",
            "F1 score: 0.7325171197343846\n"
          ]
        }
      ]
    },
    {
      "cell_type": "code",
      "source": [
        "# multiclass classifier\n",
        "sgd_clf_all = SGDClassifier(random_state=42)\n",
        "sgd_clf_all.fit(X_train, y_train)"
      ],
      "metadata": {
        "id": "4o_GLJiRgKUQ",
        "outputId": "a5709b41-50d8-4872-e2c1-7cd4c6b68aa7",
        "colab": {
          "base_uri": "https://localhost:8080/"
        }
      },
      "id": "4o_GLJiRgKUQ",
      "execution_count": 31,
      "outputs": [
        {
          "output_type": "execute_result",
          "data": {
            "text/plain": [
              "SGDClassifier(random_state=42)"
            ]
          },
          "metadata": {},
          "execution_count": 31
        }
      ]
    },
    {
      "cell_type": "code",
      "source": [
        "sgd_clf_all.predict([X.loc[14]])"
      ],
      "metadata": {
        "id": "fY0GQeQ4vM0G",
        "outputId": "0225d71e-7677-439d-c76d-591e37c30d96",
        "colab": {
          "base_uri": "https://localhost:8080/"
        }
      },
      "id": "fY0GQeQ4vM0G",
      "execution_count": 43,
      "outputs": [
        {
          "output_type": "stream",
          "name": "stderr",
          "text": [
            "/usr/local/lib/python3.7/dist-packages/sklearn/base.py:451: UserWarning: X does not have valid feature names, but SGDClassifier was fitted with feature names\n",
            "  \"X does not have valid feature names, but\"\n"
          ]
        },
        {
          "output_type": "execute_result",
          "data": {
            "text/plain": [
              "array([1])"
            ]
          },
          "metadata": {},
          "execution_count": 43
        }
      ]
    },
    {
      "cell_type": "code",
      "source": [
        "y_train[14]"
      ],
      "metadata": {
        "id": "EpgCUT2LwAct",
        "outputId": "866f9151-9472-4162-8dc2-94db77792acf",
        "colab": {
          "base_uri": "https://localhost:8080/"
        }
      },
      "id": "EpgCUT2LwAct",
      "execution_count": 44,
      "outputs": [
        {
          "output_type": "execute_result",
          "data": {
            "text/plain": [
              "1"
            ]
          },
          "metadata": {},
          "execution_count": 44
        }
      ]
    },
    {
      "cell_type": "code",
      "source": [
        ""
      ],
      "metadata": {
        "id": "Fcs0jgSbwKb3"
      },
      "id": "Fcs0jgSbwKb3",
      "execution_count": null,
      "outputs": []
    }
  ],
  "metadata": {
    "kernelspec": {
      "display_name": "Python",
      "language": "python",
      "name": "conda-env-python-py"
    },
    "language_info": {
      "codemirror_mode": {
        "name": "ipython",
        "version": 3
      },
      "file_extension": ".py",
      "mimetype": "text/x-python",
      "name": "python",
      "nbconvert_exporter": "python",
      "pygments_lexer": "ipython3",
      "version": "3.7.12"
    },
    "colab": {
      "name": "Benfords Law.ipynb",
      "provenance": []
    }
  },
  "nbformat": 4,
  "nbformat_minor": 5
}