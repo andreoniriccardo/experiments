{
 "cells": [
  {
   "cell_type": "code",
   "execution_count": 92,
   "id": "216b441c",
   "metadata": {},
   "outputs": [],
   "source": [
    "from sklearn.datasets import fetch_openml\n",
    "from sklearn.model_selection import train_test_split\n",
    "import matplotlib.pyplot as plt\n",
    "import numpy as np"
   ]
  },
  {
   "cell_type": "code",
   "execution_count": 93,
   "id": "9dee0b71",
   "metadata": {},
   "outputs": [
    {
     "data": {
      "text/plain": [
       "dict_keys(['data', 'target', 'frame', 'categories', 'feature_names', 'target_names', 'DESCR', 'details', 'url'])"
      ]
     },
     "execution_count": 93,
     "metadata": {},
     "output_type": "execute_result"
    }
   ],
   "source": [
    "# import the dataset\n",
    "mnist = fetch_openml('mnist_784', version = 1)\n",
    "mnist.keys()"
   ]
  },
  {
   "cell_type": "code",
   "execution_count": 94,
   "id": "25c1c7a3",
   "metadata": {},
   "outputs": [],
   "source": [
    "# fetch the data\n",
    "X = mnist[\"data\"].values\n",
    "y = mnist[\"target\"].astype(np.uint8).values"
   ]
  },
  {
   "cell_type": "code",
   "execution_count": 96,
   "id": "6c78542e",
   "metadata": {},
   "outputs": [
    {
     "data": {
      "text/plain": [
       "numpy.ndarray"
      ]
     },
     "execution_count": 96,
     "metadata": {},
     "output_type": "execute_result"
    }
   ],
   "source": [
    "type(X)"
   ]
  },
  {
   "cell_type": "code",
   "execution_count": 6,
   "id": "86833184",
   "metadata": {},
   "outputs": [],
   "source": [
    "# define function to print the images\n",
    "def print_digit(index):\n",
    "    example = X.loc[index].values\n",
    "    example = example.reshape(28,28)\n",
    "    plt.imshow(example, cmap='GnBu')\n",
    "    plt.axis('off')"
   ]
  },
  {
   "cell_type": "code",
   "execution_count": 7,
   "id": "66232df0",
   "metadata": {},
   "outputs": [
    {
     "data": {
      "image/png": "[encoded data removed]",
      "text/plain": [
       "<Figure size 432x288 with 1 Axes>"
      ]
     },
     "metadata": {
      "needs_background": "light"
     },
     "output_type": "display_data"
    }
   ],
   "source": [
    "print_digit(42)"
   ]
  },
  {
   "cell_type": "code",
   "execution_count": 97,
   "id": "72130ffb",
   "metadata": {},
   "outputs": [
    {
     "name": "stdout",
     "output_type": "stream",
     "text": [
      "Train set size: (56000, 784)\n",
      "Test set size: (14000, 784)\n"
     ]
    }
   ],
   "source": [
    "# split train test set\n",
    "X_train, X_test, y_train, y_test = train_test_split(X, y, test_size=0.2, random_state=42)\n",
    "print('Train set size:', X_train.shape)\n",
    "print('Test set size:', X_test.shape)"
   ]
  },
  {
   "cell_type": "code",
   "execution_count": 12,
   "id": "5c873ca1",
   "metadata": {},
   "outputs": [
    {
     "data": {
      "text/plain": [
       "<matplotlib.image.AxesImage at 0x1fa806fdb50>"
      ]
     },
     "execution_count": 12,
     "metadata": {},
     "output_type": "execute_result"
    },
    {
     "data": {
      "image/png": "[encoded data removed]",
      "text/plain": [
       "<Figure size 432x288 with 1 Axes>"
      ]
     },
     "metadata": {
      "needs_background": "light"
     },
     "output_type": "display_data"
    }
   ],
   "source": [
    "dummy = X.loc[1].values\n",
    "dummy = dummy.reshape(28,28)\n",
    "plt.imshow(dummy)"
   ]
  },
  {
   "cell_type": "code",
   "execution_count": 13,
   "id": "fc739e61",
   "metadata": {},
   "outputs": [],
   "source": [
    "from scipy.ndimage import shift"
   ]
  },
  {
   "cell_type": "code",
   "execution_count": 42,
   "id": "4ff29c07",
   "metadata": {},
   "outputs": [],
   "source": [
    "def shift_digit(img, vector, fill_with=0.0):\n",
    "    img = img.reshape(28,28)\n",
    "    img_shifted = shift(img, vector, cval=fill_with)\n",
    "    \n",
    "    # return unrolled image array\n",
    "    return img_shifted.flatten()"
   ]
  },
  {
   "cell_type": "code",
   "execution_count": 105,
   "id": "c573b869",
   "metadata": {},
   "outputs": [],
   "source": [
    "# convert dataset into list for performance\n",
    "X_train_boost = list(X_train)\n",
    "y_train_boost = list(y_train)"
   ]
  },
  {
   "cell_type": "code",
   "execution_count": 109,
   "id": "df973e57",
   "metadata": {},
   "outputs": [
    {
     "name": "stdout",
     "output_type": "stream",
     "text": [
      "Currently shifted: shiftCurrently shifted: shift 4 /4 223999 / 56000 /4 1928 / 56000 2721 / 56000 1 /4 3870 / 56000 1 /4 4304 / 560001 /4 4887 / 56000 1 /4 5876 / 56000 1 /4 6220 / 5600056000 56000/4 7265 / 56000 1 /4 7448 / 56000 / 560008052 / 560001 /4 9635 / 56000 1 /4 9829 / 56000 1 /4 10181 / 56000 11384 / 5600011967 / 56000 / 56000 1 /4 13536 / 56000 5600056000 1 /4 15252 / 56000 1 /4 15602 / 5600018131 / 56000 1 /4 20743 / 56000 1 /4 20893 / 560001 /4 21130 / 56000 1 /4 21637 / 5600056000 1 /4 22052 / 56000 1 /4 22247 / 5600022629 / 560001 /4 23379 / 560005600056000 1 /4 24671 / 56000 1 /4 25271 / 56000 1 /4 26024 / 56000 1 /4 27526 / 56000 29626 / 5600030209 / 56000 1 /4 31347 / 56000 1 /4 33020 / 56000 1 /4 33262 / 56000 560005600035540 / 5600056000 / 56000 1 /4 38168 / 56000 41954 / 56000 1 /4 42364 / 56000 42537 / 56000 1 /4 42892 / 5600043120 / 560001 /4 43870 / 5600056000 44992 / 56000 1 /4 50867 / 560001 /4 51450 / 56000 1 /4 52206 / 56000 1 /4 52743 / 56000 1 /4 53151 / 56000 1 /4 53911 / 5600056000 1 /4 55771 / 560002 /4 56781 / 56000 2 /4 57155 / 5600056000 2 /4 58286 / 56000 2 /4 58469 / 560002 /4 59030 / 56000 /4 59387 / 5600056000 2 /4 60296 / 5600060529 / 560002 /4 61279 / 56000 2 /4 61456 / 5600056000 2 /4 62208 / 560005600062778 / 560002 /4 63528 / 56000 56000 / 56000 2 /4 66164 / 56000 2 /4 66323 / 560002 /4 68584 / 56000 2 /4 69334 / 56000 2 /4 69560 / 5600072935 / 56000 2 /4 73693 / 5600056000 74479 / 5600074856 / 560002 /4 75606 / 560005600077105 / 56000 2 /4 77473 / 560002 /4 77855 / 56000 560005600079354 / 56000 2 /4 79531 / 560002 /4 80104 / 560005600081603 / 56000 2 /4 81781 / 5600081972 / 560002 /4 82353 / 560005600083479 / 5600083852 / 56000 2 /4 84388 / 56000 2 /4 86887 / 56000 2 /4 88165 / 56000 2 /4 88411 / 56000 89515 / 56000 2 /4 89925 / 560005600091432 / 56000 2 /4 91967 / 5600056000 2 /4 94224 / 56000 2 /4 94447 / 56000 2 /4 94820 / 56000 2 /4 95395 / 56000 2 /4 96734 / 56000 2 /4 98748 / 56000 2 /4 98990 / 56000 2 /4 99496 / 56000/ 56000 2 /4 101428 / 56000 2 /4 101777 / 560002 /4 102011 / 56000 2 /4 102548 / 56000560002 /4 107342 / 56000 2 /4 107717 / 56000109991 / 56000 56000 2 /4 110902 / 56000 2 /4 111324 / 56000 2 /4 111664 / 56000 2 /4 111905 / 56000 56000 3 /4 113193 / 5600056000 3 /4 114369 / 56000 3 /4 116634 / 56000 5600056000 3 /4 121195 / 56000121752 / 560003 /4 122502 / 5600056000 3 /4 123777 / 56000124001 / 56000 3 /4 124371 / 560003 /4 124751 / 5600056000/ 56000126250 / 56000 3 /4 126779 / 560003 /4 127000 / 56000 3 /4 127183 / 5600056000128499 / 560003 /4 129249 / 56000 3 /4 129437 / 56000 3 /4 132436 / 56000 3 /4 132623 / 56000 3 /4 136396 / 56000 3 /4 136795 / 56000 3 /4 137313 / 560003 /4 139078 / 56000 3 /4 139605 / 5600056000 3 /4 140198 / 5600056000140577 / 56000 3 /4 141101 / 560003 /4 141327 / 5600056000 3 /4 142443 / 56000 3 /4 142604 / 56000142826 / 56000 3 /4 143000 / 56000 3 /4 143192 / 560003 /4 143576 / 56000 5600056000 3 /4 144858 / 56000145075 / 56000 3 /4 145257 / 560003 /4 145825 / 5600056000 3 /4 147104 / 56000147324 / 56000 3 /4 147832 / 560003 /4 148074 / 56000 3 /4 148251 / 56000148589 / 5600056000149573 / 56000 3 /4 150097 / 560003 /4 150509 / 56000 3 /4 150877 / 56000 3 /4 151040 / 56000 3 /4 152196 / 56000 / 56000 56000 3 /4 156732 / 56000 3 /4 156906 / 56000 3 /4 157067 / 56000/ 56000 56000 158819 / 56000159195 / 56000 3 /4 161446 / 56000 3 /4 161609 / 56000 162956 / 56000 3 /4 163347 / 56000 3 /4 163711 / 56000 3 /4 164622 / 56000 3 /4 165032 / 56000 3 /4 165209 / 56000 3 /4 166545 / 56000 3 /4 166719 / 56000 3 /4 166879 / 56000 4 /4 168984 / 56000 4 /4 169145 / 56000 4 /4 169398 / 56000 /4 169768 / 56000 56000 170897 / 56000 4 /4 171647 / 56000 56000 4 /4 172582 / 56000 173146 / 56000 4 /4 173896 / 56000 4 /4 174065 / 56000 4 /4 174417 / 56000 56000 4 /4 175025 / 56000 4 /4 176145 / 56000 56000 4 /4 177260 / 56000 177644 / 56000 4 /4 178394 / 56000/4 179310 / 56000 4 /4 179654 / 56000 179893 / 56000 4 /4 180074 / 56000/ 56000 4 /4 180643 / 56000 56000 182142 / 56000182725 / 560004 /4 183475 / 56000 4 /4 183665 / 56000 4 /4 184413 / 56000184974 / 56000 4 /4 186670 / 56000 4 /4 186856 / 56000 4 /4 187231 / 56000 4 /4 187607 / 56000 4 /4 188353 / 56000189472 / 56000 4 /4 189843 / 560004 /4 190222 / 56000 4 /4 190410 / 56000 4 /4 190755 / 5600056000191721 / 56000 4 /4 191912 / 56000 4 /4 192661 / 5600056000193970 / 56000 4 /4 194158 / 56000 4 /4 194502 / 560004 /4 194720 / 56000 4 /4 195250 / 5600056000 4 /4 195843 / 56000196219 / 56000 4 /4 196755 / 560004 /4 196969 / 56000 560004 /4 199218 / 5600056000200345 / 56000 56000 4 /4 201090 / 560004 /4 201467 / 56000201831 / 56000 4 /4 201992 / 5600056000 4 /4 202747 / 56000202966 / 560004 /4 203716 / 5600056000 4 /4 204842 / 56000 4 /4 207094 / 56000207464 / 5600056000 4 /4 209150 / 560004 /4 210463 / 56000 4 /4 210839 / 56000 4 /4 211403 / 56000211962 / 560004 /4 212712 / 56000 4 /4 213086 / 56000 /4 213242 / 5600056000214211 / 56000214741 / 560004 /4 214961 / 5600056000 4 /4 216090 / 56000 4 /4 217747 / 56000 4 /4 217963 / 56000 4 /4 220982 / 56000 4 /4 221163 / 56000\r"
     ]
    }
   ],
   "source": [
    "shift_n = 0\n",
    "image_n = 0\n",
    "train_size_original = X_train.shape[0]\n",
    "\n",
    "# loop through images and shift them\n",
    "for (dx, dy) in ((1,0), (0,1), (-1,0), (0,-1)):\n",
    "    shift_n += 1\n",
    "    for image, label in zip(X_train, y_train):\n",
    "        row_shifted = shift_digit(image, (dx, dy))\n",
    "        \n",
    "        # append shifted image and label\n",
    "        X_train_boost.append(row_shifted)\n",
    "        y_train_boost.append(label)\n",
    "        \n",
    "        print('Currently shifted: shift', shift_n, '/4', image_n, '/', train_size_original, end=\"\\r\") \n",
    "        image_n += 1\n",
    "    \n",
    "    "
   ]
  },
  {
   "cell_type": "code",
   "execution_count": 112,
   "id": "87b0c1e6",
   "metadata": {},
   "outputs": [],
   "source": [
    "# convert back to np arrays\n",
    "X_train_boost = np.array(X_train_boost)\n",
    "y_train_boost = np.array(y_train_boost)"
   ]
  },
  {
   "cell_type": "code",
   "execution_count": 120,
   "id": "6cc93886",
   "metadata": {},
   "outputs": [
    {
     "name": "stdout",
     "output_type": "stream",
     "text": [
      "8\n"
     ]
    },
    {
     "data": {
      "image/png": "[encoded data removed]",
      "text/plain": [
       "<Figure size 432x288 with 1 Axes>"
      ]
     },
     "metadata": {
      "needs_background": "light"
     },
     "output_type": "display_data"
    }
   ],
   "source": [
    "# check consistency of data augmentation\n",
    "index = 250005\n",
    "plt.imshow(X_train_boost[index].reshape(28,28))\n",
    "print(y_train_boost[index])"
   ]
  },
  {
   "cell_type": "code",
   "execution_count": 121,
   "id": "d8ab7faf",
   "metadata": {},
   "outputs": [],
   "source": [
    "# develop training model based on random forest\n",
    "from sklearn.ensemble import RandomForestClassifier\n",
    "from sklearn.model_selection import GridSearchCV"
   ]
  },
  {
   "cell_type": "code",
   "execution_count": 123,
   "id": "8bd832c6",
   "metadata": {},
   "outputs": [
    {
     "name": "stdout",
     "output_type": "stream",
     "text": [
      "Fitting 5 folds for each of 4 candidates, totalling 20 fits\n",
      "[CV 1/5] END ....................................max_depth=2; total time= 1.7min\n",
      "[CV 2/5] END ....................................max_depth=2; total time= 1.4min\n",
      "[CV 3/5] END ....................................max_depth=2; total time= 1.5min\n",
      "[CV 4/5] END ....................................max_depth=2; total time= 1.4min\n",
      "[CV 5/5] END ....................................max_depth=2; total time= 1.4min\n",
      "[CV 1/5] END ....................................max_depth=3; total time= 2.5min\n",
      "[CV 2/5] END ....................................max_depth=3; total time= 2.1min\n",
      "[CV 3/5] END ....................................max_depth=3; total time= 2.1min\n",
      "[CV 4/5] END ....................................max_depth=3; total time= 2.0min\n",
      "[CV 5/5] END ....................................max_depth=3; total time= 2.0min\n",
      "[CV 1/5] END ....................................max_depth=4; total time= 3.2min\n",
      "[CV 2/5] END ....................................max_depth=4; total time= 3.1min\n",
      "[CV 3/5] END ....................................max_depth=4; total time= 3.1min\n",
      "[CV 4/5] END ....................................max_depth=4; total time= 3.1min\n",
      "[CV 5/5] END ....................................max_depth=4; total time= 3.0min\n",
      "[CV 1/5] END ....................................max_depth=5; total time= 4.2min\n",
      "[CV 2/5] END ....................................max_depth=5; total time= 3.8min\n",
      "[CV 3/5] END ....................................max_depth=5; total time= 3.7min\n",
      "[CV 4/5] END ....................................max_depth=5; total time= 3.8min\n",
      "[CV 5/5] END ....................................max_depth=5; total time= 3.4min\n"
     ]
    },
    {
     "data": {
      "text/plain": [
       "GridSearchCV(cv=5, estimator=RandomForestClassifier(random_state=42),\n",
       "             param_grid={'max_depth': [2, 3, 4, 5]}, return_train_score=True,\n",
       "             scoring='accuracy', verbose=3)"
      ]
     },
     "execution_count": 123,
     "metadata": {},
     "output_type": "execute_result"
    }
   ],
   "source": [
    "classifier = RandomForestClassifier(random_state=42)\n",
    "parameter_space = {'max_depth': [2,3,4,5]}\n",
    "grid_search = GridSearchCV(classifier, parameter_space, cv=5, scoring=\"accuracy\", return_train_score=True, verbose=3)\n",
    "\n",
    "grid_search.fit(X_train_boost, y_train_boost)\n"
   ]
  },
  {
   "cell_type": "code",
   "execution_count": 125,
   "id": "7521950e",
   "metadata": {},
   "outputs": [
    {
     "data": {
      "text/plain": [
       "RandomForestClassifier(max_depth=5, random_state=42)"
      ]
     },
     "execution_count": 125,
     "metadata": {},
     "output_type": "execute_result"
    }
   ],
   "source": [
    "best_model = grid_search.best_estimator_\n",
    "best_model"
   ]
  },
  {
   "cell_type": "code",
   "execution_count": 129,
   "id": "6b066d41",
   "metadata": {},
   "outputs": [
    {
     "data": {
      "text/plain": [
       "DecisionTreeClassifier(random_state=42)"
      ]
     },
     "execution_count": 129,
     "metadata": {},
     "output_type": "execute_result"
    }
   ],
   "source": [
    "from sklearn.tree import DecisionTreeClassifier\n",
    "\n",
    "clf = DecisionTreeClassifier(random_state=42)\n",
    "clf.fit(X_train_boost, y_train_boost)"
   ]
  },
  {
   "cell_type": "code",
   "execution_count": 130,
   "id": "0c307da6",
   "metadata": {},
   "outputs": [
    {
     "name": "stdout",
     "output_type": "stream",
     "text": [
      "Accuracy score with boosted dataset: 0.908\n"
     ]
    }
   ],
   "source": [
    "from sklearn.metrics import accuracy_score\n",
    "\n",
    "accuracy_boosted = accuracy_score(y_test, clf.predict(X_test))\n",
    "print(\"Accuracy score with boosted dataset:\", accuracy_boosted)"
   ]
  },
  {
   "cell_type": "code",
   "execution_count": 131,
   "id": "f959b555",
   "metadata": {},
   "outputs": [
    {
     "data": {
      "text/plain": [
       "DecisionTreeClassifier(random_state=42)"
      ]
     },
     "execution_count": 131,
     "metadata": {},
     "output_type": "execute_result"
    }
   ],
   "source": [
    "clf = DecisionTreeClassifier(random_state=42)\n",
    "clf.fit(X_train, y_train)"
   ]
  },
  {
   "cell_type": "code",
   "execution_count": 132,
   "id": "436776d9",
   "metadata": {},
   "outputs": [
    {
     "name": "stdout",
     "output_type": "stream",
     "text": [
      "Accuracy score with boosted dataset: 0.8695\n"
     ]
    }
   ],
   "source": [
    "accuracy_boosted = accuracy_score(y_test, clf.predict(X_test))\n",
    "print(\"Accuracy score with boosted dataset:\", accuracy_boosted)"
   ]
  },
  {
   "cell_type": "code",
   "execution_count": null,
   "id": "e1a49f80",
   "metadata": {},
   "outputs": [],
   "source": []
  }
 ],
 "metadata": {
  "kernelspec": {
   "display_name": "Python 3",
   "language": "python",
   "name": "python3"
  },
  "language_info": {
   "codemirror_mode": {
    "name": "ipython",
    "version": 3
   },
   "file_extension": ".py",
   "mimetype": "text/x-python",
   "name": "python",
   "nbconvert_exporter": "python",
   "pygments_lexer": "ipython3",
   "version": "3.8.8"
  }
 },
 "nbformat": 4,
 "nbformat_minor": 5
}
