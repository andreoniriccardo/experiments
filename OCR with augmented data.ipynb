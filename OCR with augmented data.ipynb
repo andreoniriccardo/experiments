{
  "cells": [
    {
      "cell_type": "code",
      "execution_count": 2,
      "id": "216b441c",
      "metadata": {
        "id": "216b441c"
      },
      "outputs": [],
      "source": [
        "from sklearn.datasets import fetch_openml\n",
        "from sklearn.model_selection import train_test_split\n",
        "import matplotlib.pyplot as plt\n",
        "import numpy as np"
      ]
    },
    {
      "cell_type": "markdown",
      "source": [
        "## Prepare the dataset"
      ],
      "metadata": {
        "id": "lDUDMDSTx5Jo"
      },
      "id": "lDUDMDSTx5Jo"
    },
    {
      "cell_type": "code",
      "execution_count": 3,
      "id": "9dee0b71",
      "metadata": {
        "id": "9dee0b71",
        "outputId": "dccab0c9-517f-4595-d4b0-3e466044e49f",
        "colab": {
          "base_uri": "https://localhost:8080/"
        }
      },
      "outputs": [
        {
          "output_type": "execute_result",
          "data": {
            "text/plain": [
              "dict_keys(['data', 'target', 'frame', 'categories', 'feature_names', 'target_names', 'DESCR', 'details', 'url'])"
            ]
          },
          "metadata": {},
          "execution_count": 3
        }
      ],
      "source": [
        "# import the dataset\n",
        "mnist = fetch_openml('mnist_784', version = 1)\n",
        "mnist.keys()"
      ]
    },
    {
      "cell_type": "code",
      "execution_count": 4,
      "id": "25c1c7a3",
      "metadata": {
        "id": "25c1c7a3"
      },
      "outputs": [],
      "source": [
        "# fetch the data\n",
        "X = mnist[\"data\"].values\n",
        "y = mnist[\"target\"].astype(np.uint8).values"
      ]
    },
    {
      "cell_type": "code",
      "execution_count": 5,
      "id": "86833184",
      "metadata": {
        "id": "86833184"
      },
      "outputs": [],
      "source": [
        "# define function to print the images\n",
        "def print_digit(index):\n",
        "    example = X[index]\n",
        "    example = example.reshape(28,28)\n",
        "    plt.imshow(example, cmap='viridis')\n",
        "    plt.axis('off')"
      ]
    },
    {
      "cell_type": "code",
      "execution_count": 6,
      "id": "66232df0",
      "metadata": {
        "id": "66232df0",
        "outputId": "ff3d1867-6c57-44ff-8f08-f380c87f01bc",
        "colab": {
          "base_uri": "https://localhost:8080/",
          "height": 248
        }
      },
      "outputs": [
        {
          "output_type": "display_data",
          "data": {
            "text/plain": [
              "<Figure size 432x288 with 1 Axes>"
            ],
            "image/png": "[encoded data removed]"
          },
          "metadata": {
            "needs_background": "light"
          }
        }
      ],
      "source": [
        "print_digit(42)"
      ]
    },
    {
      "cell_type": "code",
      "execution_count": 7,
      "id": "72130ffb",
      "metadata": {
        "id": "72130ffb",
        "outputId": "4096ca89-c296-4e52-cda2-a906ccabb129",
        "colab": {
          "base_uri": "https://localhost:8080/"
        }
      },
      "outputs": [
        {
          "output_type": "stream",
          "name": "stdout",
          "text": [
            "Train set size: (56000, 784)\n",
            "Test set size: (14000, 784)\n"
          ]
        }
      ],
      "source": [
        "# split train test set\n",
        "X_train, X_test, y_train, y_test = train_test_split(X, y, test_size=0.2, random_state=42)\n",
        "print('Train set size:', X_train.shape)\n",
        "print('Test set size:', X_test.shape)"
      ]
    },
    {
      "cell_type": "markdown",
      "source": [
        "## Shift images"
      ],
      "metadata": {
        "id": "uJYykv9bx1zn"
      },
      "id": "uJYykv9bx1zn"
    },
    {
      "cell_type": "code",
      "execution_count": 8,
      "id": "fc739e61",
      "metadata": {
        "id": "fc739e61"
      },
      "outputs": [],
      "source": [
        "from scipy.ndimage import shift"
      ]
    },
    {
      "cell_type": "code",
      "execution_count": 9,
      "id": "4ff29c07",
      "metadata": {
        "id": "4ff29c07"
      },
      "outputs": [],
      "source": [
        "def shift_digit(img, vector, fill_with=0.0):\n",
        "    img = img.reshape(28,28)\n",
        "    img_shifted = shift(img, vector, cval=fill_with)\n",
        "    \n",
        "    # return unrolled image array\n",
        "    return img_shifted.flatten()"
      ]
    },
    {
      "cell_type": "code",
      "execution_count": 10,
      "id": "c573b869",
      "metadata": {
        "id": "c573b869"
      },
      "outputs": [],
      "source": [
        "# convert dataset into list for performance\n",
        "X_train_boost = list(X_train)\n",
        "y_train_boost = list(y_train)"
      ]
    },
    {
      "cell_type": "code",
      "execution_count": 11,
      "id": "df973e57",
      "metadata": {
        "id": "df973e57",
        "outputId": "66323c67-5725-4f42-aa48-ede68455e19a",
        "colab": {
          "base_uri": "https://localhost:8080/"
        }
      },
      "outputs": [
        {
          "output_type": "stream",
          "name": "stdout",
          "text": [
            ""
          ]
        }
      ],
      "source": [
        "shift_n = 0\n",
        "image_n = 0\n",
        "train_size_original = X_train.shape[0]\n",
        "\n",
        "# loop through images and shift them\n",
        "for (dx, dy) in ((1,0), (0,1), (-1,0), (0,-1)):\n",
        "    shift_n += 1\n",
        "    for image, label in zip(X_train, y_train):\n",
        "        row_shifted = shift_digit(image, (dx, dy))\n",
        "        \n",
        "        # append shifted image and label\n",
        "        X_train_boost.append(row_shifted)\n",
        "        y_train_boost.append(label)\n",
        "        \n",
        "        print('Currently shifted: shift', shift_n, '/4', image_n, '/', train_size_original, end=\"\\r\") \n",
        "        image_n += 1\n",
        "    \n",
        "    "
      ]
    },
    {
      "cell_type": "code",
      "execution_count": 12,
      "id": "87b0c1e6",
      "metadata": {
        "id": "87b0c1e6"
      },
      "outputs": [],
      "source": [
        "# convert back to np arrays\n",
        "X_train_boost = np.array(X_train_boost)\n",
        "y_train_boost = np.array(y_train_boost)"
      ]
    },
    {
      "cell_type": "code",
      "execution_count": 13,
      "id": "6cc93886",
      "metadata": {
        "id": "6cc93886",
        "outputId": "ffb4d674-530e-4e44-8537-2e85a6200619",
        "colab": {
          "base_uri": "https://localhost:8080/",
          "height": 283
        }
      },
      "outputs": [
        {
          "output_type": "stream",
          "name": "stdout",
          "text": [
            "8\n"
          ]
        },
        {
          "output_type": "display_data",
          "data": {
            "text/plain": [
              "<Figure size 432x288 with 1 Axes>"
            ],
            "image/png": "[encoded data removed]"
          },
          "metadata": {
            "needs_background": "light"
          }
        }
      ],
      "source": [
        "# check consistency of data augmentation\n",
        "index = 250005\n",
        "plt.imshow(X_train_boost[index].reshape(28,28))\n",
        "print(y_train_boost[index])"
      ]
    },
    {
      "cell_type": "markdown",
      "source": [
        "## Develop a model"
      ],
      "metadata": {
        "id": "mxtYNVSS3MlO"
      },
      "id": "mxtYNVSS3MlO"
    },
    {
      "cell_type": "code",
      "execution_count": 14,
      "id": "d8ab7faf",
      "metadata": {
        "id": "d8ab7faf"
      },
      "outputs": [],
      "source": [
        "from sklearn.ensemble import RandomForestClassifier\n",
        "from sklearn.model_selection import cross_val_score\n",
        "from sklearn.model_selection import GridSearchCV"
      ]
    },
    {
      "cell_type": "code",
      "source": [
        "clf = RandomForestClassifier(n_estimators=100, random_state=42)\n",
        "score = cross_val_score(clf, X_train, y_train, verbose=10, n_jobs=-1)\n",
        "print(score)"
      ],
      "metadata": {
        "id": "s1G56hWP3X3Q",
        "outputId": "e763fc24-9316-4f7c-92bc-7ba35f35c82c",
        "colab": {
          "base_uri": "https://localhost:8080/"
        }
      },
      "id": "s1G56hWP3X3Q",
      "execution_count": 15,
      "outputs": [
        {
          "output_type": "stream",
          "name": "stderr",
          "text": [
            "[Parallel(n_jobs=-1)]: Using backend LokyBackend with 2 concurrent workers.\n",
            "[Parallel(n_jobs=-1)]: Done   1 tasks      | elapsed:   48.2s\n",
            "[Parallel(n_jobs=-1)]: Done   3 out of   5 | elapsed:  1.6min remaining:  1.0min\n"
          ]
        },
        {
          "output_type": "stream",
          "name": "stdout",
          "text": [
            "[0.96607143 0.96785714 0.96883929 0.96705357 0.96553571]\n"
          ]
        },
        {
          "output_type": "stream",
          "name": "stderr",
          "text": [
            "[Parallel(n_jobs=-1)]: Done   5 out of   5 | elapsed:  2.1min remaining:    0.0s\n",
            "[Parallel(n_jobs=-1)]: Done   5 out of   5 | elapsed:  2.1min finished\n"
          ]
        }
      ]
    },
    {
      "cell_type": "code",
      "source": [
        "clf = RandomForestClassifier(n_estimators=200, random_state=42)\n",
        "score = cross_val_score(clf, X_train, y_train, verbose=4, n_jobs=-1)\n",
        "print(score)"
      ],
      "metadata": {
        "id": "ii3ggsT33X8-",
        "outputId": "7fb0b567-c7fa-4e18-8372-e1e61b0abcad",
        "colab": {
          "base_uri": "https://localhost:8080/"
        }
      },
      "id": "ii3ggsT33X8-",
      "execution_count": 16,
      "outputs": [
        {
          "output_type": "stream",
          "name": "stderr",
          "text": [
            "[Parallel(n_jobs=-1)]: Using backend LokyBackend with 2 concurrent workers.\n"
          ]
        },
        {
          "output_type": "stream",
          "name": "stdout",
          "text": [
            "[0.96839286 0.96848214 0.97071429 0.96830357 0.96625   ]\n"
          ]
        },
        {
          "output_type": "stream",
          "name": "stderr",
          "text": [
            "[Parallel(n_jobs=-1)]: Done   5 out of   5 | elapsed:  4.3min finished\n"
          ]
        }
      ]
    },
    {
      "cell_type": "code",
      "source": [
        "clf = RandomForestClassifier(random_state=42)\n",
        "param_space = {'n_estimators': [100, 200], 'min_samples_split': range(2,8,2)}\n",
        "grid = GridSearchCV(clf, param_grid=param_space, scoring=\"accuracy\", n_jobs=-1, cv=5, verbose=4)\n",
        "grid.fit(X_train, y_train)"
      ],
      "metadata": {
        "id": "q8XOfeU73YCK",
        "outputId": "cec517ee-5ae2-4efc-b7b5-0820b8d253cd",
        "colab": {
          "base_uri": "https://localhost:8080/"
        }
      },
      "id": "q8XOfeU73YCK",
      "execution_count": 17,
      "outputs": [
        {
          "output_type": "stream",
          "name": "stdout",
          "text": [
            "Fitting 5 folds for each of 6 candidates, totalling 30 fits\n"
          ]
        },
        {
          "output_type": "execute_result",
          "data": {
            "text/plain": [
              "GridSearchCV(cv=5, estimator=RandomForestClassifier(random_state=42), n_jobs=-1,\n",
              "             param_grid={'min_samples_split': range(2, 8, 2),\n",
              "                         'n_estimators': [100, 200]},\n",
              "             scoring='accuracy', verbose=4)"
            ]
          },
          "metadata": {},
          "execution_count": 17
        }
      ]
    },
    {
      "cell_type": "code",
      "source": [
        "grid.best_estimator_"
      ],
      "metadata": {
        "id": "QO4pEVV33YLP",
        "outputId": "694caefd-5133-4825-f94e-670b569ffaad",
        "colab": {
          "base_uri": "https://localhost:8080/"
        }
      },
      "id": "QO4pEVV33YLP",
      "execution_count": 18,
      "outputs": [
        {
          "output_type": "execute_result",
          "data": {
            "text/plain": [
              "RandomForestClassifier(n_estimators=200, random_state=42)"
            ]
          },
          "metadata": {},
          "execution_count": 18
        }
      ]
    },
    {
      "cell_type": "code",
      "source": [
        "grid.best_params_"
      ],
      "metadata": {
        "id": "V_cgbXusggDF",
        "outputId": "de0cb963-e4c1-4e06-9f0e-5ae6b39672db",
        "colab": {
          "base_uri": "https://localhost:8080/"
        }
      },
      "id": "V_cgbXusggDF",
      "execution_count": 33,
      "outputs": [
        {
          "output_type": "execute_result",
          "data": {
            "text/plain": [
              "{'min_samples_split': 2, 'n_estimators': 200}"
            ]
          },
          "metadata": {},
          "execution_count": 33
        }
      ]
    },
    {
      "cell_type": "code",
      "source": [
        "grid.best_score_"
      ],
      "metadata": {
        "id": "HLVArO0r3YN8",
        "outputId": "ec658e5a-bf23-4c7b-b613-59c378655416",
        "colab": {
          "base_uri": "https://localhost:8080/"
        }
      },
      "id": "HLVArO0r3YN8",
      "execution_count": 19,
      "outputs": [
        {
          "output_type": "execute_result",
          "data": {
            "text/plain": [
              "0.9684285714285714"
            ]
          },
          "metadata": {},
          "execution_count": 19
        }
      ]
    },
    {
      "cell_type": "code",
      "source": [
        "model_noBoost = grid.best_estimator_"
      ],
      "metadata": {
        "id": "O-ii19nW3YRC"
      },
      "id": "O-ii19nW3YRC",
      "execution_count": 20,
      "outputs": []
    },
    {
      "cell_type": "code",
      "source": [
        "from sklearn.metrics import accuracy_score"
      ],
      "metadata": {
        "id": "yldw7bGp3YTc"
      },
      "id": "yldw7bGp3YTc",
      "execution_count": 15,
      "outputs": []
    },
    {
      "cell_type": "code",
      "source": [
        "y_pred = model_noBoost.predict(X_test)"
      ],
      "metadata": {
        "id": "ZE6QrJ5Q3YWO"
      },
      "id": "ZE6QrJ5Q3YWO",
      "execution_count": 22,
      "outputs": []
    },
    {
      "cell_type": "code",
      "source": [
        "accuracy_score(y_test, y_pred)"
      ],
      "metadata": {
        "id": "-1qDL9Bl3YY5",
        "outputId": "46db39c5-190f-43a1-95e6-8d959b097139",
        "colab": {
          "base_uri": "https://localhost:8080/"
        }
      },
      "id": "-1qDL9Bl3YY5",
      "execution_count": 23,
      "outputs": [
        {
          "output_type": "execute_result",
          "data": {
            "text/plain": [
              "0.9681428571428572"
            ]
          },
          "metadata": {},
          "execution_count": 23
        }
      ]
    },
    {
      "cell_type": "code",
      "source": [
        "model_noBoost.fit(X_train, y_train)"
      ],
      "metadata": {
        "id": "2wxGlkCsw5Y4",
        "outputId": "3115a0bd-80bc-49b7-8b50-480e26367e95",
        "colab": {
          "base_uri": "https://localhost:8080/"
        }
      },
      "id": "2wxGlkCsw5Y4",
      "execution_count": 24,
      "outputs": [
        {
          "output_type": "execute_result",
          "data": {
            "text/plain": [
              "RandomForestClassifier(n_estimators=200, random_state=42)"
            ]
          },
          "metadata": {},
          "execution_count": 24
        }
      ]
    },
    {
      "cell_type": "code",
      "source": [
        "accuracy_score(y_test, model_noBoost.predict(X_test))"
      ],
      "metadata": {
        "id": "YtTQtFHqw5kH",
        "outputId": "16ac798b-9c22-4814-96c8-5fff03d61b9d",
        "colab": {
          "base_uri": "https://localhost:8080/"
        }
      },
      "id": "YtTQtFHqw5kH",
      "execution_count": 25,
      "outputs": [
        {
          "output_type": "execute_result",
          "data": {
            "text/plain": [
              "0.9681428571428572"
            ]
          },
          "metadata": {},
          "execution_count": 25
        }
      ]
    },
    {
      "cell_type": "code",
      "source": [
        "#now on the boosted training set"
      ],
      "metadata": {
        "id": "eVBWSVHa3Ybb"
      },
      "id": "eVBWSVHa3Ybb",
      "execution_count": 26,
      "outputs": []
    },
    {
      "cell_type": "code",
      "source": [
        "clf_boost = grid.best_estimator_\n",
        "clf_boost.fit(X_train_boost, y_train_boost)"
      ],
      "metadata": {
        "id": "sxHcSbkV3YeZ",
        "outputId": "a421eb92-609b-4867-a045-fc012bff5c71",
        "colab": {
          "base_uri": "https://localhost:8080/"
        }
      },
      "id": "sxHcSbkV3YeZ",
      "execution_count": 27,
      "outputs": [
        {
          "output_type": "execute_result",
          "data": {
            "text/plain": [
              "RandomForestClassifier(n_estimators=200, random_state=42)"
            ]
          },
          "metadata": {},
          "execution_count": 27
        }
      ]
    },
    {
      "cell_type": "code",
      "source": [
        "accuracy_score(y_test, clf_boost.predict(X_test))"
      ],
      "metadata": {
        "id": "yKmkfkdU3Yg5",
        "outputId": "7c0adbda-4fff-4e61-e25d-2cd193a9f7d8",
        "colab": {
          "base_uri": "https://localhost:8080/"
        }
      },
      "id": "yKmkfkdU3Yg5",
      "execution_count": 28,
      "outputs": [
        {
          "output_type": "execute_result",
          "data": {
            "text/plain": [
              "0.9779285714285715"
            ]
          },
          "metadata": {},
          "execution_count": 28
        }
      ]
    },
    {
      "cell_type": "code",
      "source": [
        "from sklearn.metrics import confusion_matrix\n",
        "\n",
        "confusion = confusion_matrix(y_test, clf_boost.predict(X_test))\n",
        "confusion\n"
      ],
      "metadata": {
        "id": "VhhDtr-g3Yjh",
        "outputId": "284a1978-8194-481a-86fe-0ff2fe8d9e9e",
        "colab": {
          "base_uri": "https://localhost:8080/"
        }
      },
      "id": "VhhDtr-g3Yjh",
      "execution_count": 29,
      "outputs": [
        {
          "output_type": "execute_result",
          "data": {
            "text/plain": [
              "array([[1333,    0,    0,    0,    0,    0,    2,    1,    5,    2],\n",
              "       [   0, 1579,    4,    5,    3,    1,    1,    4,    1,    2],\n",
              "       [   2,    2, 1352,    3,    3,    0,    4,    5,    8,    1],\n",
              "       [   1,    0,   19, 1379,    0,    7,    0,   13,   10,    4],\n",
              "       [   3,    0,    2,    0, 1262,    0,    3,    3,    2,   20],\n",
              "       [   1,    2,    2,   10,    1, 1240,    6,    1,    9,    1],\n",
              "       [   2,    1,    0,    0,    1,    7, 1383,    0,    2,    0],\n",
              "       [   1,    2,   11,    0,    4,    0,    0, 1470,    1,   14],\n",
              "       [   0,    5,    7,    8,    2,    3,    3,    2, 1320,    7],\n",
              "       [   3,    5,    2,   11,   12,    2,    1,    6,    5, 1373]])"
            ]
          },
          "metadata": {},
          "execution_count": 29
        }
      ]
    },
    {
      "cell_type": "code",
      "source": [
        "plt.figure(figsize=(20,20))\n",
        "plt.matshow(confusion, cmap=plt.cm.gray)\n",
        "plt.show()"
      ],
      "metadata": {
        "id": "pj_bKuuV3YmG",
        "outputId": "00c0a43d-1d9c-4082-ba99-c3d750173d76",
        "colab": {
          "base_uri": "https://localhost:8080/",
          "height": 293
        }
      },
      "id": "pj_bKuuV3YmG",
      "execution_count": 30,
      "outputs": [
        {
          "output_type": "display_data",
          "data": {
            "text/plain": [
              "<Figure size 1440x1440 with 0 Axes>"
            ]
          },
          "metadata": {}
        },
        {
          "output_type": "display_data",
          "data": {
            "text/plain": [
              "<Figure size 288x288 with 1 Axes>"
            ],
            "image/png": "[encoded data removed]"
          },
          "metadata": {
            "needs_background": "light"
          }
        }
      ]
    },
    {
      "cell_type": "code",
      "source": [
        "import seaborn as sn"
      ],
      "metadata": {
        "id": "vyaEvUTq3Yo9"
      },
      "id": "vyaEvUTq3Yo9",
      "execution_count": 31,
      "outputs": []
    },
    {
      "cell_type": "code",
      "source": [
        "plt.figure(figsize = (12,10))\n",
        "sn.heatmap(confusion, annot=True)"
      ],
      "metadata": {
        "id": "xQYExYusET5B",
        "outputId": "007f8a3c-9478-427b-bbc6-ccb947498728",
        "colab": {
          "base_uri": "https://localhost:8080/",
          "height": 609
        }
      },
      "id": "xQYExYusET5B",
      "execution_count": 32,
      "outputs": [
        {
          "output_type": "execute_result",
          "data": {
            "text/plain": [
              "<matplotlib.axes._subplots.AxesSubplot at 0x7fc998b65dd0>"
            ]
          },
          "metadata": {},
          "execution_count": 32
        },
        {
          "output_type": "display_data",
          "data": {
            "text/plain": [
              "<Figure size 864x720 with 2 Axes>"
            ],
            "image/png": "[encoded data removed]"
          },
          "metadata": {
            "needs_background": "light"
          }
        }
      ]
    },
    {
      "cell_type": "code",
      "source": [
        "# try improving random forest with better gridsearch\n",
        "clf = RandomForestClassifier(random_state=42)\n",
        "param_space = {'n_estimators': [200, 300], 'max_features':[None, 'auto'], 'min_samples_split': range(2,6,2)}\n",
        "grid2 = GridSearchCV(clf, param_grid=param_space, scoring=\"accuracy\", n_jobs=-1, cv=5, verbose=4)\n",
        "grid2.fit(X_train, y_train)"
      ],
      "metadata": {
        "id": "ON4P11zfET7j",
        "outputId": "99ea0925-106d-4741-b551-adaffa5750ea",
        "colab": {
          "base_uri": "https://localhost:8080/"
        }
      },
      "id": "ON4P11zfET7j",
      "execution_count": null,
      "outputs": [
        {
          "output_type": "stream",
          "name": "stdout",
          "text": [
            "Fitting 5 folds for each of 8 candidates, totalling 40 fits\n"
          ]
        }
      ]
    },
    {
      "cell_type": "code",
      "source": [
        ""
      ],
      "metadata": {
        "id": "cI-Odgr6ET9_"
      },
      "id": "cI-Odgr6ET9_",
      "execution_count": null,
      "outputs": []
    },
    {
      "cell_type": "code",
      "source": [
        ""
      ],
      "metadata": {
        "id": "zi7WQoYQEUA4"
      },
      "id": "zi7WQoYQEUA4",
      "execution_count": null,
      "outputs": []
    },
    {
      "cell_type": "code",
      "source": [
        ""
      ],
      "metadata": {
        "id": "2_G27Sh4EUDR"
      },
      "id": "2_G27Sh4EUDR",
      "execution_count": null,
      "outputs": []
    },
    {
      "cell_type": "code",
      "source": [
        ""
      ],
      "metadata": {
        "id": "XtHdzdoSEUFw"
      },
      "id": "XtHdzdoSEUFw",
      "execution_count": null,
      "outputs": []
    },
    {
      "cell_type": "code",
      "source": [
        ""
      ],
      "metadata": {
        "id": "czEVLVUKEUIm"
      },
      "id": "czEVLVUKEUIm",
      "execution_count": null,
      "outputs": []
    },
    {
      "cell_type": "code",
      "source": [
        ""
      ],
      "metadata": {
        "id": "foIjGxE0EUK7"
      },
      "id": "foIjGxE0EUK7",
      "execution_count": null,
      "outputs": []
    },
    {
      "cell_type": "code",
      "source": [
        ""
      ],
      "metadata": {
        "id": "33QkDv49EUNj"
      },
      "id": "33QkDv49EUNj",
      "execution_count": null,
      "outputs": []
    },
    {
      "cell_type": "code",
      "source": [
        ""
      ],
      "metadata": {
        "id": "BP-O6wV6EUQJ"
      },
      "id": "BP-O6wV6EUQJ",
      "execution_count": null,
      "outputs": []
    },
    {
      "cell_type": "code",
      "source": [
        ""
      ],
      "metadata": {
        "id": "jlYzZ8Gz3Yrj"
      },
      "id": "jlYzZ8Gz3Yrj",
      "execution_count": null,
      "outputs": []
    },
    {
      "cell_type": "code",
      "execution_count": null,
      "id": "8bd832c6",
      "metadata": {
        "id": "8bd832c6",
        "outputId": "fe616daa-2842-44c1-ba77-e8a1406502a3"
      },
      "outputs": [
        {
          "name": "stdout",
          "output_type": "stream",
          "text": [
            "Fitting 5 folds for each of 4 candidates, totalling 20 fits\n",
            "[CV 1/5] END ....................................max_depth=2; total time= 1.7min\n",
            "[CV 2/5] END ....................................max_depth=2; total time= 1.4min\n",
            "[CV 3/5] END ....................................max_depth=2; total time= 1.5min\n",
            "[CV 4/5] END ....................................max_depth=2; total time= 1.4min\n",
            "[CV 5/5] END ....................................max_depth=2; total time= 1.4min\n",
            "[CV 1/5] END ....................................max_depth=3; total time= 2.5min\n",
            "[CV 2/5] END ....................................max_depth=3; total time= 2.1min\n",
            "[CV 3/5] END ....................................max_depth=3; total time= 2.1min\n",
            "[CV 4/5] END ....................................max_depth=3; total time= 2.0min\n",
            "[CV 5/5] END ....................................max_depth=3; total time= 2.0min\n",
            "[CV 1/5] END ....................................max_depth=4; total time= 3.2min\n",
            "[CV 2/5] END ....................................max_depth=4; total time= 3.1min\n",
            "[CV 3/5] END ....................................max_depth=4; total time= 3.1min\n",
            "[CV 4/5] END ....................................max_depth=4; total time= 3.1min\n",
            "[CV 5/5] END ....................................max_depth=4; total time= 3.0min\n",
            "[CV 1/5] END ....................................max_depth=5; total time= 4.2min\n",
            "[CV 2/5] END ....................................max_depth=5; total time= 3.8min\n",
            "[CV 3/5] END ....................................max_depth=5; total time= 3.7min\n",
            "[CV 4/5] END ....................................max_depth=5; total time= 3.8min\n",
            "[CV 5/5] END ....................................max_depth=5; total time= 3.4min\n"
          ]
        },
        {
          "data": {
            "text/plain": [
              "GridSearchCV(cv=5, estimator=RandomForestClassifier(random_state=42),\n",
              "             param_grid={'max_depth': [2, 3, 4, 5]}, return_train_score=True,\n",
              "             scoring='accuracy', verbose=3)"
            ]
          },
          "execution_count": 123,
          "metadata": {},
          "output_type": "execute_result"
        }
      ],
      "source": [
        "classifier = RandomForestClassifier(random_state=42)\n",
        "parameter_space = {'max_depth': [2,3,4,5]}\n",
        "grid_search = GridSearchCV(classifier, parameter_space, cv=5, scoring=\"accuracy\", return_train_score=True, verbose=3)\n",
        "\n",
        "grid_search.fit(X_train_boost, y_train_boost)\n"
      ]
    },
    {
      "cell_type": "code",
      "execution_count": null,
      "id": "7521950e",
      "metadata": {
        "id": "7521950e",
        "outputId": "673e6f99-f1bb-406e-b0b8-b1ca8deb7c3b"
      },
      "outputs": [
        {
          "data": {
            "text/plain": [
              "RandomForestClassifier(max_depth=5, random_state=42)"
            ]
          },
          "execution_count": 125,
          "metadata": {},
          "output_type": "execute_result"
        }
      ],
      "source": [
        "best_model = grid_search.best_estimator_\n",
        "best_model"
      ]
    },
    {
      "cell_type": "code",
      "execution_count": null,
      "id": "6b066d41",
      "metadata": {
        "id": "6b066d41",
        "outputId": "f19cbe17-eb97-4958-b3e8-54551c308601"
      },
      "outputs": [
        {
          "data": {
            "text/plain": [
              "DecisionTreeClassifier(random_state=42)"
            ]
          },
          "execution_count": 129,
          "metadata": {},
          "output_type": "execute_result"
        }
      ],
      "source": [
        "from sklearn.tree import DecisionTreeClassifier\n",
        "\n",
        "clf = DecisionTreeClassifier(random_state=42)\n",
        "clf.fit(X_train_boost, y_train_boost)"
      ]
    },
    {
      "cell_type": "code",
      "execution_count": null,
      "id": "0c307da6",
      "metadata": {
        "id": "0c307da6",
        "outputId": "2cef24a2-fa6e-47fa-8083-4b65cba1c283"
      },
      "outputs": [
        {
          "name": "stdout",
          "output_type": "stream",
          "text": [
            "Accuracy score with boosted dataset: 0.908\n"
          ]
        }
      ],
      "source": [
        "from sklearn.metrics import accuracy_score\n",
        "\n",
        "accuracy_boosted = accuracy_score(y_test, clf.predict(X_test))\n",
        "print(\"Accuracy score with boosted dataset:\", accuracy_boosted)"
      ]
    },
    {
      "cell_type": "code",
      "execution_count": null,
      "id": "f959b555",
      "metadata": {
        "id": "f959b555",
        "outputId": "1e95ead9-aeef-4804-b0cd-bb2c5b346df0"
      },
      "outputs": [
        {
          "data": {
            "text/plain": [
              "DecisionTreeClassifier(random_state=42)"
            ]
          },
          "execution_count": 131,
          "metadata": {},
          "output_type": "execute_result"
        }
      ],
      "source": [
        "clf = DecisionTreeClassifier(random_state=42)\n",
        "clf.fit(X_train, y_train)"
      ]
    },
    {
      "cell_type": "code",
      "execution_count": null,
      "id": "436776d9",
      "metadata": {
        "id": "436776d9",
        "outputId": "4b4f906d-4399-42fc-9107-571f4717fa8c"
      },
      "outputs": [
        {
          "name": "stdout",
          "output_type": "stream",
          "text": [
            "Accuracy score with boosted dataset: 0.8695\n"
          ]
        }
      ],
      "source": [
        "accuracy_boosted = accuracy_score(y_test, clf.predict(X_test))\n",
        "print(\"Accuracy score with boosted dataset:\", accuracy_boosted)"
      ]
    },
    {
      "cell_type": "code",
      "execution_count": null,
      "id": "e1a49f80",
      "metadata": {
        "id": "e1a49f80"
      },
      "outputs": [],
      "source": [
        ""
      ]
    }
  ],
  "metadata": {
    "kernelspec": {
      "display_name": "Python 3",
      "language": "python",
      "name": "python3"
    },
    "language_info": {
      "codemirror_mode": {
        "name": "ipython",
        "version": 3
      },
      "file_extension": ".py",
      "mimetype": "text/x-python",
      "name": "python",
      "nbconvert_exporter": "python",
      "pygments_lexer": "ipython3",
      "version": "3.8.8"
    },
    "colab": {
      "name": "OCR with augmented data.ipynb",
      "provenance": []
    }
  },
  "nbformat": 4,
  "nbformat_minor": 5
}