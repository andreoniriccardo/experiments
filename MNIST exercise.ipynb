{
  "nbformat": 4,
  "nbformat_minor": 0,
  "metadata": {
    "colab": {
      "name": "Untitled2.ipynb",
      "provenance": [],
      "authorship_tag": "ABX9TyMzLfDjtQ5eGxwE8kKnVt7h",
      "include_colab_link": true
    },
    "kernelspec": {
      "name": "python3",
      "display_name": "Python 3"
    },
    "language_info": {
      "name": "python"
    }
  },
  "cells": [
    {
      "cell_type": "markdown",
      "metadata": {
        "id": "view-in-github",
        "colab_type": "text"
      },
      "source": [
        "<a href=\"https://colab.research.google.com/github/riccardo0001/Experiments/blob/main/MNIST%20exercise.ipynb\" target=\"_parent\"><img src=\"https://colab.research.google.com/assets/colab-badge.svg\" alt=\"Open In Colab\"/></a>"
      ]
    },
    {
      "cell_type": "markdown",
      "source": [
        "# OPTICAL CHARACTER RECOGNITION (MNIST DATASET)"
      ],
      "metadata": {
        "id": "9sSnv6YTAsk2"
      }
    },
    {
      "cell_type": "code",
      "source": [
        "# import the dataset\n",
        "from sklearn.datasets import fetch_openml\n",
        "mnist = fetch_openml('mnist_784', version=1)"
      ],
      "metadata": {
        "id": "UyLGnqgUA1xP"
      },
      "execution_count": null,
      "outputs": []
    },
    {
      "cell_type": "code",
      "source": [
        "mnist.keys()"
      ],
      "metadata": {
        "colab": {
          "base_uri": "https://localhost:8080/"
        },
        "id": "m0EDWjNZBHTE",
        "outputId": "b8730a72-b579-44c8-ba55-60402e715e24"
      },
      "execution_count": null,
      "outputs": [
        {
          "output_type": "execute_result",
          "data": {
            "text/plain": [
              "dict_keys(['data', 'target', 'frame', 'categories', 'feature_names', 'target_names', 'DESCR', 'details', 'url'])"
            ]
          },
          "metadata": {},
          "execution_count": 3
        }
      ]
    },
    {
      "cell_type": "code",
      "source": [
        "# fetch the data into input features X and target y\n",
        "X = mnist.data\n",
        "y = mnist.target.astype(int)"
      ],
      "metadata": {
        "id": "3aFvU_H3BaP2"
      },
      "execution_count": null,
      "outputs": []
    },
    {
      "cell_type": "code",
      "source": [
        "# define function to print the images\n",
        "import matplotlib.pyplot as plt\n",
        "def print_image(index):\n",
        "  example = X.loc[index].values\n",
        "  example = example.reshape(28,28)\n",
        "  plt.imshow(example, cmap='GnBu')\n",
        "  plt.axis('off')"
      ],
      "metadata": {
        "id": "q8_y2MBZBw-l"
      },
      "execution_count": null,
      "outputs": []
    },
    {
      "cell_type": "code",
      "source": [
        "print_image(6526)"
      ],
      "metadata": {
        "colab": {
          "base_uri": "https://localhost:8080/",
          "height": 248
        },
        "id": "SyR7Ofm7ByXZ",
        "outputId": "b1e1d222-fbda-4a6a-f9f6-99fdb8cb6093"
      },
      "execution_count": null,
      "outputs": [
        {
          "data": {
            "image/png": "[encoded data removed]",
            "text/plain": [
              "<Figure size 432x288 with 1 Axes>"
            ]
          },
          "metadata": {},
          "output_type": "display_data"
        }
      ]
    },
    {
      "cell_type": "code",
      "source": [
        "# divide into train & test sets\n",
        "from sklearn.model_selection import train_test_split\n",
        "X_train, X_test, y_train, y_test = train_test_split(X, y, test_size=0.2, random_state=42) \n",
        "print('Train set size:', X_train.shape)\n",
        "print('Test set size:', X_test.shape)"
      ],
      "metadata": {
        "colab": {
          "base_uri": "https://localhost:8080/"
        },
        "id": "M6KOyLurCPKJ",
        "outputId": "1750c635-094a-4311-d80e-b2e442da1d97"
      },
      "execution_count": null,
      "outputs": [
        {
          "output_type": "stream",
          "name": "stdout",
          "text": [
            "Train set size: (56000, 784)\n",
            "Test set size: (14000, 784)\n"
          ]
        }
      ]
    },
    {
      "cell_type": "code",
      "source": [
        "# try with K neighbors classifier\n",
        "from sklearn.neighbors import KNeighborsClassifier\n",
        "KNC = KNeighborsClassifier()\n",
        "KNC.fit(X_train, y_train)\n",
        "KNC.predict(X_train.loc[43].values.reshape(1,784))"
      ],
      "metadata": {
        "colab": {
          "base_uri": "https://localhost:8080/"
        },
        "id": "F6y-c0MaIObi",
        "outputId": "aadcf09d-b1b2-40e8-dcb9-34275cd16c3e"
      },
      "execution_count": null,
      "outputs": [
        {
          "output_type": "stream",
          "name": "stderr",
          "text": [
            "/usr/local/lib/python3.7/dist-packages/sklearn/base.py:451: UserWarning: X does not have valid feature names, but KNeighborsClassifier was fitted with feature names\n",
            "  \"X does not have valid feature names, but\"\n"
          ]
        },
        {
          "output_type": "execute_result",
          "data": {
            "text/plain": [
              "array([9])"
            ]
          },
          "metadata": {},
          "execution_count": 7
        }
      ]
    },
    {
      "cell_type": "code",
      "source": [
        "print_image(43)"
      ],
      "metadata": {
        "colab": {
          "base_uri": "https://localhost:8080/",
          "height": 248
        },
        "id": "14pEuHNeI1cN",
        "outputId": "8eb99082-4176-484c-d4a7-681ed172379f"
      },
      "execution_count": null,
      "outputs": [
        {
          "output_type": "display_data",
          "data": {
            "text/plain": [
              "<Figure size 432x288 with 1 Axes>"
            ],
            "image/png": "[encoded data removed]"
          },
          "metadata": {
            "needs_background": "light"
          }
        }
      ]
    },
    {
      "cell_type": "code",
      "source": [
        "# get evaluation metrics\n",
        "from sklearn.model_selection import cross_val_score\n",
        "knn_default = KNeighborsClassifier()\n",
        "cv_scores = cross_val_score(knn_default, X_train, y_train, cv=5, scoring=\"accuracy\")"
      ],
      "metadata": {
        "id": "qIbXTnZxJkPT"
      },
      "execution_count": null,
      "outputs": []
    },
    {
      "cell_type": "code",
      "source": [
        "import numpy as np\n",
        "final_score_default = np.mean(cv_scores)\n",
        "print(\"Accuracy with defaul KNN:\", final_score_default)"
      ],
      "metadata": {
        "id": "yLjSf6ZNmamO",
        "outputId": "52974337-9772-49a1-8c8b-c8393840bd0d",
        "colab": {
          "base_uri": "https://localhost:8080/"
        }
      },
      "execution_count": null,
      "outputs": [
        {
          "output_type": "stream",
          "name": "stdout",
          "text": [
            "Accuracy with defaul KNN: 0.9687678571428572\n"
          ]
        }
      ]
    },
    {
      "cell_type": "code",
      "source": [
        "# it's good but I try better hyperparameters\n",
        "from sklearn.model_selection import GridSearchCV\n",
        "KNC_grid_tuned = KNeighborsClassifier()\n",
        "#parameters = {'leaf_size':list(range(1,50)), 'n_neighbors':list(range(1,35)), 'p':[1,2]}\n",
        "parameters = {'n_neighbors':list(range(4,7)),'weights': ['uniform', 'distance']}\n",
        "grid_search = GridSearchCV(KNC_grid_tuned, parameters, cv=3, scoring='accuracy', return_train_score=True, verbose=10)\n",
        "grid_search.fit(X_train, y_train)"
      ],
      "metadata": {
        "id": "TBDheRHMKQsj",
        "outputId": "e1763ab4-a200-4b76-839c-6cb4552bacea",
        "colab": {
          "base_uri": "https://localhost:8080/"
        }
      },
      "execution_count": null,
      "outputs": [
        {
          "output_type": "stream",
          "name": "stdout",
          "text": [
            "Fitting 3 folds for each of 6 candidates, totalling 18 fits\n",
            "[CV 1/3; 1/6] START n_neighbors=4, weights=uniform..............................\n",
            "[CV 1/3; 1/6] END n_neighbors=4, weights=uniform;, score=(train=0.980, test=0.966) total time=  52.9s\n",
            "[CV 2/3; 1/6] START n_neighbors=4, weights=uniform..............................\n",
            "[CV 2/3; 1/6] END n_neighbors=4, weights=uniform;, score=(train=0.979, test=0.969) total time=  47.2s\n",
            "[CV 3/3; 1/6] START n_neighbors=4, weights=uniform..............................\n",
            "[CV 3/3; 1/6] END n_neighbors=4, weights=uniform;, score=(train=0.981, test=0.965) total time=  45.7s\n",
            "[CV 1/3; 2/6] START n_neighbors=4, weights=distance.............................\n",
            "[CV 1/3; 2/6] END n_neighbors=4, weights=distance;, score=(train=1.000, test=0.970) total time=  45.5s\n",
            "[CV 2/3; 2/6] START n_neighbors=4, weights=distance.............................\n",
            "[CV 2/3; 2/6] END n_neighbors=4, weights=distance;, score=(train=1.000, test=0.972) total time=  46.0s\n",
            "[CV 3/3; 2/6] START n_neighbors=4, weights=distance.............................\n",
            "[CV 3/3; 2/6] END n_neighbors=4, weights=distance;, score=(train=1.000, test=0.969) total time=  45.9s\n",
            "[CV 1/3; 3/6] START n_neighbors=5, weights=uniform..............................\n",
            "[CV 1/3; 3/6] END n_neighbors=5, weights=uniform;, score=(train=0.979, test=0.967) total time=  46.4s\n",
            "[CV 2/3; 3/6] START n_neighbors=5, weights=uniform..............................\n",
            "[CV 2/3; 3/6] END n_neighbors=5, weights=uniform;, score=(train=0.977, test=0.969) total time=  46.8s\n",
            "[CV 3/3; 3/6] START n_neighbors=5, weights=uniform..............................\n",
            "[CV 3/3; 3/6] END n_neighbors=5, weights=uniform;, score=(train=0.979, test=0.967) total time=  47.0s\n",
            "[CV 1/3; 4/6] START n_neighbors=5, weights=distance.............................\n",
            "[CV 1/3; 4/6] END n_neighbors=5, weights=distance;, score=(train=1.000, test=0.968) total time=  45.9s\n",
            "[CV 2/3; 4/6] START n_neighbors=5, weights=distance.............................\n",
            "[CV 2/3; 4/6] END n_neighbors=5, weights=distance;, score=(train=1.000, test=0.971) total time=  46.4s\n",
            "[CV 3/3; 4/6] START n_neighbors=5, weights=distance.............................\n",
            "[CV 3/3; 4/6] END n_neighbors=5, weights=distance;, score=(train=1.000, test=0.967) total time=  45.6s\n",
            "[CV 1/3; 5/6] START n_neighbors=6, weights=uniform..............................\n",
            "[CV 1/3; 5/6] END n_neighbors=6, weights=uniform;, score=(train=0.976, test=0.965) total time=  46.5s\n",
            "[CV 2/3; 5/6] START n_neighbors=6, weights=uniform..............................\n",
            "[CV 2/3; 5/6] END n_neighbors=6, weights=uniform;, score=(train=0.974, test=0.968) total time=  47.0s\n",
            "[CV 3/3; 5/6] START n_neighbors=6, weights=uniform..............................\n",
            "[CV 3/3; 5/6] END n_neighbors=6, weights=uniform;, score=(train=0.977, test=0.965) total time=  46.1s\n",
            "[CV 1/3; 6/6] START n_neighbors=6, weights=distance.............................\n",
            "[CV 1/3; 6/6] END n_neighbors=6, weights=distance;, score=(train=1.000, test=0.968) total time=  51.0s\n",
            "[CV 2/3; 6/6] START n_neighbors=6, weights=distance.............................\n",
            "[CV 2/3; 6/6] END n_neighbors=6, weights=distance;, score=(train=1.000, test=0.971) total time=  46.2s\n",
            "[CV 3/3; 6/6] START n_neighbors=6, weights=distance.............................\n",
            "[CV 3/3; 6/6] END n_neighbors=6, weights=distance;, score=(train=1.000, test=0.968) total time=  45.6s\n"
          ]
        },
        {
          "output_type": "execute_result",
          "data": {
            "text/plain": [
              "GridSearchCV(cv=3, estimator=KNeighborsClassifier(),\n",
              "             param_grid={'n_neighbors': [4, 5, 6],\n",
              "                         'weights': ['uniform', 'distance']},\n",
              "             return_train_score=True, scoring='accuracy', verbose=10)"
            ]
          },
          "metadata": {},
          "execution_count": 22
        }
      ]
    },
    {
      "cell_type": "code",
      "source": [
        "# get best model\n",
        "knn_tuned = grid_search.best_estimator_\n",
        "\n",
        "y_predicted = knn_tuned.predict(X_test)"
      ],
      "metadata": {
        "id": "kuoGEd5_-1xO"
      },
      "execution_count": null,
      "outputs": []
    },
    {
      "cell_type": "code",
      "source": [
        "knn_tuned = grid_search.best_estimator_\n",
        "knn_tuned"
      ],
      "metadata": {
        "id": "RWD6UWc3AM8o",
        "outputId": "1b342026-dc29-41e9-cb9b-124d0f46ceca",
        "colab": {
          "base_uri": "https://localhost:8080/"
        }
      },
      "execution_count": null,
      "outputs": [
        {
          "output_type": "execute_result",
          "data": {
            "text/plain": [
              "KNeighborsClassifier(n_neighbors=4, weights='distance')"
            ]
          },
          "metadata": {},
          "execution_count": 29
        }
      ]
    },
    {
      "cell_type": "code",
      "source": [
        "from sklearn.metrics import accuracy_score\n",
        "accuracy_score(y_test, y_predicted)"
      ],
      "metadata": {
        "id": "ie3jbPK0_WyO",
        "outputId": "6503d1b0-2187-4fae-d818-f4a483909ffb",
        "colab": {
          "base_uri": "https://localhost:8080/"
        }
      },
      "execution_count": null,
      "outputs": [
        {
          "output_type": "execute_result",
          "data": {
            "text/plain": [
              "0.9731428571428572"
            ]
          },
          "metadata": {},
          "execution_count": 27
        }
      ]
    },
    {
      "cell_type": "code",
      "source": [
        "# since gridsearch takes ages, I try Randomized Search\n",
        "from sklearn.model_selection import RandomizedSearchCV\n",
        "KNC_grid_tuned = KNeighborsClassifier()\n",
        "#parameters = {'leaf_size':list(range(1,50)), 'n_neighbors':list(range(1,35)), 'p':[1,2]}\n",
        "# dont' consider leaf size to speed up convergence\n",
        "parameters = {'n_neighbors':list(range(1,35)), 'p':[1,2]}\n",
        "#set verbose to high integer to print out messages\n",
        "random_search = RandomizedSearchCV(KNC_grid_tuned, parameters, cv=2, scoring='accuracy', return_train_score=True, verbose=10)\n",
        "random_search.fit(X_train, y_train)"
      ],
      "metadata": {
        "id": "lxAr04qRxFEF",
        "outputId": "cbd138df-2f24-4a0d-c1da-bac4256d334e",
        "colab": {
          "base_uri": "https://localhost:8080/"
        }
      },
      "execution_count": null,
      "outputs": [
        {
          "output_type": "stream",
          "name": "stdout",
          "text": [
            "Fitting 2 folds for each of 10 candidates, totalling 20 fits\n",
            "[CV 1/2; 1/10] START n_neighbors=30, p=2........................................\n",
            "[CV 1/2; 1/10] END n_neighbors=30, p=2;, score=(train=0.950, test=0.946) total time=  53.6s\n",
            "[CV 2/2; 1/10] START n_neighbors=30, p=2........................................\n",
            "[CV 2/2; 1/10] END n_neighbors=30, p=2;, score=(train=0.952, test=0.947) total time=  51.5s\n",
            "[CV 1/2; 2/10] START n_neighbors=32, p=1........................................\n"
          ]
        }
      ]
    },
    {
      "cell_type": "code",
      "source": [
        "list(range(4,7))"
      ],
      "metadata": {
        "id": "-Vp9vQipxQ-m",
        "outputId": "5bfa77c3-f223-4658-d056-c22204695661",
        "colab": {
          "base_uri": "https://localhost:8080/"
        }
      },
      "execution_count": null,
      "outputs": [
        {
          "output_type": "execute_result",
          "data": {
            "text/plain": [
              "[4, 5, 6]"
            ]
          },
          "metadata": {},
          "execution_count": 16
        }
      ]
    },
    {
      "cell_type": "code",
      "source": [
        "#generate random sample for multiclass classification\n",
        "import matplotlib.pyplot as plt\n",
        "from sklearn.datasets import make_classification\n",
        "import numpy as np\n",
        "# synthetic dataset for classification (binary) \n",
        "plt.style.use('seaborn-whitegrid')\n",
        "plt.rcParams[\"figure.figsize\"] = (10,7)\n",
        "fig = plt.figure()\n",
        "ax = fig.gca()\n",
        "X_C2, y_C2 = make_classification(n_samples = 70, n_classes=3, n_features=2,\n",
        "                                n_redundant=0, n_informative=2,\n",
        "                                n_clusters_per_class=1, flip_y = 0.01,\n",
        "                                class_sep = 2, random_state=0)\n",
        "\n",
        "\n",
        "plt.scatter(X_C2[np.where(y_C2==0), 0], X_C2[np.where(y_C2==0), 1], c='r',\n",
        "           marker= 'o', s=80)\n",
        "plt.scatter(X_C2[np.where(y_C2==1), 0], X_C2[np.where(y_C2==1), 1], c='b',\n",
        "           marker= 'o', s=80)\n",
        "plt.scatter(X_C2[np.where(y_C2==2), 0], X_C2[np.where(y_C2==2), 1], c='g',\n",
        "           marker= 'o', s=80)\n",
        "ax.grid(False)\n",
        "ax.set_xticks([])\n",
        "ax.set_yticks([])\n",
        "plt.xlabel(\"$x_1$\", fontsize='x-large')\n",
        "plt.ylabel(\"$x_2$\", fontsize='x-large')\n",
        "\n",
        "plt.show()"
      ],
      "metadata": {
        "id": "SUFTuXJLpEBt",
        "outputId": "a8b43188-692b-4a5e-f5d3-fb7f19a85695",
        "colab": {
          "base_uri": "https://localhost:8080/",
          "height": 430
        }
      },
      "execution_count": 10,
      "outputs": [
        {
          "output_type": "display_data",
          "data": {
            "text/plain": [
              "<Figure size 720x504 with 1 Axes>"
            ],
            "image/png": "[encoded data removed]"
          },
          "metadata": {}
        }
      ]
    },
    {
      "cell_type": "code",
      "source": [
        ""
      ],
      "metadata": {
        "id": "UbxD1ljqnidz"
      },
      "execution_count": null,
      "outputs": []
    }
  ]
}